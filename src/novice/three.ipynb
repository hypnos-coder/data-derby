{
 "cells": [
  {
   "cell_type": "code",
   "execution_count": 8,
   "metadata": {},
   "outputs": [
    {
     "data": {
      "text/html": [
       "<div>\n",
       "<style scoped>\n",
       "    .dataframe tbody tr th:only-of-type {\n",
       "        vertical-align: middle;\n",
       "    }\n",
       "\n",
       "    .dataframe tbody tr th {\n",
       "        vertical-align: top;\n",
       "    }\n",
       "\n",
       "    .dataframe thead th {\n",
       "        text-align: right;\n",
       "    }\n",
       "</style>\n",
       "<table border=\"1\" class=\"dataframe\">\n",
       "  <thead>\n",
       "    <tr style=\"text-align: right;\">\n",
       "      <th></th>\n",
       "      <th>State</th>\n",
       "      <th>2004-05</th>\n",
       "      <th>2005-06</th>\n",
       "      <th>2006-07</th>\n",
       "      <th>2007-08</th>\n",
       "      <th>2008-09</th>\n",
       "      <th>2009-10</th>\n",
       "      <th>2010-11</th>\n",
       "      <th>2011-12</th>\n",
       "      <th>2012-13</th>\n",
       "      <th>...</th>\n",
       "      <th>2016-17</th>\n",
       "      <th>2017-18</th>\n",
       "      <th>2018-19</th>\n",
       "      <th>2019-20</th>\n",
       "      <th>2020-21</th>\n",
       "      <th>2021-22</th>\n",
       "      <th>2022-23</th>\n",
       "      <th>2023-24</th>\n",
       "      <th>1-Year % Change</th>\n",
       "      <th>5-Year % Change</th>\n",
       "    </tr>\n",
       "  </thead>\n",
       "  <tbody>\n",
       "    <tr>\n",
       "      <th>0</th>\n",
       "      <td>Alabama</td>\n",
       "      <td>4510</td>\n",
       "      <td>4782</td>\n",
       "      <td>4906</td>\n",
       "      <td>5244</td>\n",
       "      <td>5968</td>\n",
       "      <td>6487</td>\n",
       "      <td>7373</td>\n",
       "      <td>8001</td>\n",
       "      <td>8734</td>\n",
       "      <td>...</td>\n",
       "      <td>10083</td>\n",
       "      <td>10650</td>\n",
       "      <td>10777</td>\n",
       "      <td>10922</td>\n",
       "      <td>10996</td>\n",
       "      <td>11338</td>\n",
       "      <td>11683</td>\n",
       "      <td>11890</td>\n",
       "      <td>0.02</td>\n",
       "      <td>0.10</td>\n",
       "    </tr>\n",
       "    <tr>\n",
       "      <th>1</th>\n",
       "      <td>Alaska</td>\n",
       "      <td>3435</td>\n",
       "      <td>3793</td>\n",
       "      <td>4194</td>\n",
       "      <td>4425</td>\n",
       "      <td>4678</td>\n",
       "      <td>4922</td>\n",
       "      <td>5261</td>\n",
       "      <td>5455</td>\n",
       "      <td>5785</td>\n",
       "      <td>...</td>\n",
       "      <td>7128</td>\n",
       "      <td>7440</td>\n",
       "      <td>7821</td>\n",
       "      <td>8233</td>\n",
       "      <td>8610</td>\n",
       "      <td>8815</td>\n",
       "      <td>9024</td>\n",
       "      <td>9163</td>\n",
       "      <td>0.02</td>\n",
       "      <td>0.17</td>\n",
       "    </tr>\n",
       "    <tr>\n",
       "      <th>2</th>\n",
       "      <td>Arizona</td>\n",
       "      <td>4078</td>\n",
       "      <td>4434</td>\n",
       "      <td>4674</td>\n",
       "      <td>4959</td>\n",
       "      <td>5584</td>\n",
       "      <td>6554</td>\n",
       "      <td>8075</td>\n",
       "      <td>9435</td>\n",
       "      <td>9728</td>\n",
       "      <td>...</td>\n",
       "      <td>10931</td>\n",
       "      <td>11210</td>\n",
       "      <td>11545</td>\n",
       "      <td>11879</td>\n",
       "      <td>11811</td>\n",
       "      <td>11820</td>\n",
       "      <td>12184</td>\n",
       "      <td>12583</td>\n",
       "      <td>0.03</td>\n",
       "      <td>0.09</td>\n",
       "    </tr>\n",
       "    <tr>\n",
       "      <th>3</th>\n",
       "      <td>Arkansas</td>\n",
       "      <td>4581</td>\n",
       "      <td>4980</td>\n",
       "      <td>5314</td>\n",
       "      <td>5599</td>\n",
       "      <td>5914</td>\n",
       "      <td>5980</td>\n",
       "      <td>6304</td>\n",
       "      <td>6654</td>\n",
       "      <td>6995</td>\n",
       "      <td>...</td>\n",
       "      <td>8254</td>\n",
       "      <td>8550</td>\n",
       "      <td>8701</td>\n",
       "      <td>9036</td>\n",
       "      <td>9078</td>\n",
       "      <td>9250</td>\n",
       "      <td>9478</td>\n",
       "      <td>9734</td>\n",
       "      <td>0.03</td>\n",
       "      <td>0.12</td>\n",
       "    </tr>\n",
       "    <tr>\n",
       "      <th>4</th>\n",
       "      <td>California</td>\n",
       "      <td>4195</td>\n",
       "      <td>4526</td>\n",
       "      <td>4549</td>\n",
       "      <td>4951</td>\n",
       "      <td>5436</td>\n",
       "      <td>6550</td>\n",
       "      <td>7485</td>\n",
       "      <td>8933</td>\n",
       "      <td>8986</td>\n",
       "      <td>...</td>\n",
       "      <td>9302</td>\n",
       "      <td>9800</td>\n",
       "      <td>9875</td>\n",
       "      <td>9854</td>\n",
       "      <td>9924</td>\n",
       "      <td>9943</td>\n",
       "      <td>10353</td>\n",
       "      <td>10641</td>\n",
       "      <td>0.03</td>\n",
       "      <td>0.08</td>\n",
       "    </tr>\n",
       "  </tbody>\n",
       "</table>\n",
       "<p>5 rows × 23 columns</p>\n",
       "</div>"
      ],
      "text/plain": [
       "        State  2004-05  2005-06  2006-07    2007-08   2008-09  2009-10  \\\n",
       "0     Alabama     4510     4782     4906        5244     5968     6487   \n",
       "1      Alaska     3435     3793     4194        4425     4678     4922   \n",
       "2     Arizona     4078     4434     4674        4959     5584     6554   \n",
       "3    Arkansas     4581     4980     5314        5599     5914     5980   \n",
       "4  California     4195     4526     4549        4951     5436     6550   \n",
       "\n",
       "   2010-11  2011-12  2012-13  ...  2016-17  2017-18  2018-19  2019-20  \\\n",
       "0     7373     8001     8734  ...    10083    10650    10777    10922   \n",
       "1     5261     5455     5785  ...     7128     7440     7821     8233   \n",
       "2     8075     9435     9728  ...    10931    11210    11545    11879   \n",
       "3     6304     6654     6995  ...     8254     8550     8701     9036   \n",
       "4     7485     8933     8986  ...     9302     9800     9875     9854   \n",
       "\n",
       "   2020-21  2021-22  2022-23  2023-24  1-Year % Change  5-Year % Change  \n",
       "0    10996    11338    11683    11890             0.02             0.10  \n",
       "1     8610     8815     9024     9163             0.02             0.17  \n",
       "2    11811    11820    12184    12583             0.03             0.09  \n",
       "3     9078     9250     9478     9734             0.03             0.12  \n",
       "4     9924     9943    10353    10641             0.03             0.08  \n",
       "\n",
       "[5 rows x 23 columns]"
      ]
     },
     "execution_count": 8,
     "metadata": {},
     "output_type": "execute_result"
    }
   ],
   "source": [
    "import pandas as pd\n",
    "import seaborn as sns\n",
    "import matplotlib.pyplot as plt\n",
    "\n",
    "df = pd.read_csv(\"../../data/National_education_cost/CP3-pub-4y-current-dollars.csv\")\n",
    "import warnings\n",
    "warnings.filterwarnings(\"ignore\")\n",
    "\n",
    "# df.drop([\"Unnamed: 23\", ], axis=1, inplace=True)\n",
    "df.head()"
   ]
  },
  {
   "cell_type": "code",
   "execution_count": 9,
   "metadata": {},
   "outputs": [
    {
     "data": {
      "text/plain": [
       "Index(['State', '2004-05', '2005-06', '2006-07', '  2007-08 ', '2008-09',\n",
       "       '2009-10', '2010-11', '2011-12', '2012-13', '2013-14', '2014-15',\n",
       "       '2015-16', '2016-17', '2017-18', '2018-19', '2019-20', '2020-21',\n",
       "       '2021-22', '2022-23', '2023-24', '1-Year % Change', '5-Year % Change'],\n",
       "      dtype='object')"
      ]
     },
     "execution_count": 9,
     "metadata": {},
     "output_type": "execute_result"
    }
   ],
   "source": [
    "df.columns"
   ]
  },
  {
   "cell_type": "code",
   "execution_count": 10,
   "metadata": {},
   "outputs": [],
   "source": [
    "melted_df = pd.melt(df, id_vars=[\"State\", \"1-Year % Change\", \"5-Year % Change\"], var_name=\"Year\", value_name=\"Tuition\")\n",
    "df = melted_df.sort_values(by=[\"State\", \"Year\"]).reset_index(drop=True)"
   ]
  },
  {
   "cell_type": "code",
   "execution_count": 11,
   "metadata": {},
   "outputs": [
    {
     "data": {
      "text/html": [
       "<div>\n",
       "<style scoped>\n",
       "    .dataframe tbody tr th:only-of-type {\n",
       "        vertical-align: middle;\n",
       "    }\n",
       "\n",
       "    .dataframe tbody tr th {\n",
       "        vertical-align: top;\n",
       "    }\n",
       "\n",
       "    .dataframe thead th {\n",
       "        text-align: right;\n",
       "    }\n",
       "</style>\n",
       "<table border=\"1\" class=\"dataframe\">\n",
       "  <thead>\n",
       "    <tr style=\"text-align: right;\">\n",
       "      <th></th>\n",
       "      <th>State</th>\n",
       "      <th>1-Year % Change</th>\n",
       "      <th>5-Year % Change</th>\n",
       "      <th>Year</th>\n",
       "      <th>Tuition</th>\n",
       "    </tr>\n",
       "  </thead>\n",
       "  <tbody>\n",
       "    <tr>\n",
       "      <th>0</th>\n",
       "      <td>Alabama</td>\n",
       "      <td>0.02</td>\n",
       "      <td>0.10</td>\n",
       "      <td>2007-08</td>\n",
       "      <td>5244</td>\n",
       "    </tr>\n",
       "    <tr>\n",
       "      <th>1</th>\n",
       "      <td>Alabama</td>\n",
       "      <td>0.02</td>\n",
       "      <td>0.10</td>\n",
       "      <td>2004-05</td>\n",
       "      <td>4510</td>\n",
       "    </tr>\n",
       "    <tr>\n",
       "      <th>2</th>\n",
       "      <td>Alabama</td>\n",
       "      <td>0.02</td>\n",
       "      <td>0.10</td>\n",
       "      <td>2005-06</td>\n",
       "      <td>4782</td>\n",
       "    </tr>\n",
       "    <tr>\n",
       "      <th>3</th>\n",
       "      <td>Alabama</td>\n",
       "      <td>0.02</td>\n",
       "      <td>0.10</td>\n",
       "      <td>2006-07</td>\n",
       "      <td>4906</td>\n",
       "    </tr>\n",
       "    <tr>\n",
       "      <th>4</th>\n",
       "      <td>Alabama</td>\n",
       "      <td>0.02</td>\n",
       "      <td>0.10</td>\n",
       "      <td>2008-09</td>\n",
       "      <td>5968</td>\n",
       "    </tr>\n",
       "    <tr>\n",
       "      <th>...</th>\n",
       "      <td>...</td>\n",
       "      <td>...</td>\n",
       "      <td>...</td>\n",
       "      <td>...</td>\n",
       "      <td>...</td>\n",
       "    </tr>\n",
       "    <tr>\n",
       "      <th>1015</th>\n",
       "      <td>Wyoming</td>\n",
       "      <td>0.04</td>\n",
       "      <td>0.24</td>\n",
       "      <td>2019-20</td>\n",
       "      <td>5581</td>\n",
       "    </tr>\n",
       "    <tr>\n",
       "      <th>1016</th>\n",
       "      <td>Wyoming</td>\n",
       "      <td>0.04</td>\n",
       "      <td>0.24</td>\n",
       "      <td>2020-21</td>\n",
       "      <td>5792</td>\n",
       "    </tr>\n",
       "    <tr>\n",
       "      <th>1017</th>\n",
       "      <td>Wyoming</td>\n",
       "      <td>0.04</td>\n",
       "      <td>0.24</td>\n",
       "      <td>2021-22</td>\n",
       "      <td>6097</td>\n",
       "    </tr>\n",
       "    <tr>\n",
       "      <th>1018</th>\n",
       "      <td>Wyoming</td>\n",
       "      <td>0.04</td>\n",
       "      <td>0.24</td>\n",
       "      <td>2022-23</td>\n",
       "      <td>6441</td>\n",
       "    </tr>\n",
       "    <tr>\n",
       "      <th>1019</th>\n",
       "      <td>Wyoming</td>\n",
       "      <td>0.04</td>\n",
       "      <td>0.24</td>\n",
       "      <td>2023-24</td>\n",
       "      <td>6698</td>\n",
       "    </tr>\n",
       "  </tbody>\n",
       "</table>\n",
       "<p>1020 rows × 5 columns</p>\n",
       "</div>"
      ],
      "text/plain": [
       "        State  1-Year % Change  5-Year % Change        Year  Tuition\n",
       "0     Alabama             0.02             0.10    2007-08      5244\n",
       "1     Alabama             0.02             0.10     2004-05     4510\n",
       "2     Alabama             0.02             0.10     2005-06     4782\n",
       "3     Alabama             0.02             0.10     2006-07     4906\n",
       "4     Alabama             0.02             0.10     2008-09     5968\n",
       "...       ...              ...              ...         ...      ...\n",
       "1015  Wyoming             0.04             0.24     2019-20     5581\n",
       "1016  Wyoming             0.04             0.24     2020-21     5792\n",
       "1017  Wyoming             0.04             0.24     2021-22     6097\n",
       "1018  Wyoming             0.04             0.24     2022-23     6441\n",
       "1019  Wyoming             0.04             0.24     2023-24     6698\n",
       "\n",
       "[1020 rows x 5 columns]"
      ]
     },
     "execution_count": 11,
     "metadata": {},
     "output_type": "execute_result"
    }
   ],
   "source": [
    "df"
   ]
  },
  {
   "cell_type": "code",
   "execution_count": 12,
   "metadata": {},
   "outputs": [
    {
     "data": {
      "text/html": [
       "<div>\n",
       "<style scoped>\n",
       "    .dataframe tbody tr th:only-of-type {\n",
       "        vertical-align: middle;\n",
       "    }\n",
       "\n",
       "    .dataframe tbody tr th {\n",
       "        vertical-align: top;\n",
       "    }\n",
       "\n",
       "    .dataframe thead th {\n",
       "        text-align: right;\n",
       "    }\n",
       "</style>\n",
       "<table border=\"1\" class=\"dataframe\">\n",
       "  <thead>\n",
       "    <tr style=\"text-align: right;\">\n",
       "      <th></th>\n",
       "      <th>State</th>\n",
       "      <th>1-Year % Change</th>\n",
       "      <th>5-Year % Change</th>\n",
       "      <th>Year</th>\n",
       "      <th>Tuition</th>\n",
       "    </tr>\n",
       "  </thead>\n",
       "  <tbody>\n",
       "    <tr>\n",
       "      <th>0</th>\n",
       "      <td>Alabama</td>\n",
       "      <td>0.02</td>\n",
       "      <td>0.1</td>\n",
       "      <td>2004</td>\n",
       "      <td>4510</td>\n",
       "    </tr>\n",
       "    <tr>\n",
       "      <th>1</th>\n",
       "      <td>Alabama</td>\n",
       "      <td>0.02</td>\n",
       "      <td>0.1</td>\n",
       "      <td>2005</td>\n",
       "      <td>4782</td>\n",
       "    </tr>\n",
       "    <tr>\n",
       "      <th>2</th>\n",
       "      <td>Alabama</td>\n",
       "      <td>0.02</td>\n",
       "      <td>0.1</td>\n",
       "      <td>2006</td>\n",
       "      <td>4906</td>\n",
       "    </tr>\n",
       "    <tr>\n",
       "      <th>3</th>\n",
       "      <td>Alabama</td>\n",
       "      <td>0.02</td>\n",
       "      <td>0.1</td>\n",
       "      <td>2007</td>\n",
       "      <td>5244</td>\n",
       "    </tr>\n",
       "    <tr>\n",
       "      <th>4</th>\n",
       "      <td>Alabama</td>\n",
       "      <td>0.02</td>\n",
       "      <td>0.1</td>\n",
       "      <td>2008</td>\n",
       "      <td>5968</td>\n",
       "    </tr>\n",
       "  </tbody>\n",
       "</table>\n",
       "</div>"
      ],
      "text/plain": [
       "     State  1-Year % Change  5-Year % Change  Year  Tuition\n",
       "0  Alabama             0.02              0.1  2004     4510\n",
       "1  Alabama             0.02              0.1  2005     4782\n",
       "2  Alabama             0.02              0.1  2006     4906\n",
       "3  Alabama             0.02              0.1  2007     5244\n",
       "4  Alabama             0.02              0.1  2008     5968"
      ]
     },
     "execution_count": 12,
     "metadata": {},
     "output_type": "execute_result"
    }
   ],
   "source": [
    "def replace_year(x):\n",
    "    x=x.strip()\n",
    "    current = x[:4]\n",
    "    return current\n",
    "\n",
    "\n",
    "df['Year'] = df['Year'].apply(replace_year)\n",
    "df['Year'] = pd.to_datetime(df['Year']).dt.year\n",
    "# df.dtypes\n",
    "df = df.sort_values(by=[\"State\", \"Year\"]).reset_index(drop=True)\n",
    "df.head()"
   ]
  },
  {
   "cell_type": "code",
   "execution_count": 13,
   "metadata": {},
   "outputs": [
    {
     "data": {
      "text/html": [
       "<div>\n",
       "<style scoped>\n",
       "    .dataframe tbody tr th:only-of-type {\n",
       "        vertical-align: middle;\n",
       "    }\n",
       "\n",
       "    .dataframe tbody tr th {\n",
       "        vertical-align: top;\n",
       "    }\n",
       "\n",
       "    .dataframe thead th {\n",
       "        text-align: right;\n",
       "    }\n",
       "</style>\n",
       "<table border=\"1\" class=\"dataframe\">\n",
       "  <thead>\n",
       "    <tr style=\"text-align: right;\">\n",
       "      <th></th>\n",
       "      <th>State</th>\n",
       "      <th>1-Year % Change</th>\n",
       "      <th>5-Year % Change</th>\n",
       "      <th>Year</th>\n",
       "      <th>Tuition</th>\n",
       "      <th>State_Code</th>\n",
       "    </tr>\n",
       "  </thead>\n",
       "  <tbody>\n",
       "    <tr>\n",
       "      <th>0</th>\n",
       "      <td>Alabama</td>\n",
       "      <td>0.02</td>\n",
       "      <td>0.10</td>\n",
       "      <td>2004</td>\n",
       "      <td>4510</td>\n",
       "      <td>AL</td>\n",
       "    </tr>\n",
       "    <tr>\n",
       "      <th>1</th>\n",
       "      <td>Alabama</td>\n",
       "      <td>0.02</td>\n",
       "      <td>0.10</td>\n",
       "      <td>2005</td>\n",
       "      <td>4782</td>\n",
       "      <td>AL</td>\n",
       "    </tr>\n",
       "    <tr>\n",
       "      <th>2</th>\n",
       "      <td>Alabama</td>\n",
       "      <td>0.02</td>\n",
       "      <td>0.10</td>\n",
       "      <td>2006</td>\n",
       "      <td>4906</td>\n",
       "      <td>AL</td>\n",
       "    </tr>\n",
       "    <tr>\n",
       "      <th>3</th>\n",
       "      <td>Alabama</td>\n",
       "      <td>0.02</td>\n",
       "      <td>0.10</td>\n",
       "      <td>2007</td>\n",
       "      <td>5244</td>\n",
       "      <td>AL</td>\n",
       "    </tr>\n",
       "    <tr>\n",
       "      <th>4</th>\n",
       "      <td>Alabama</td>\n",
       "      <td>0.02</td>\n",
       "      <td>0.10</td>\n",
       "      <td>2008</td>\n",
       "      <td>5968</td>\n",
       "      <td>AL</td>\n",
       "    </tr>\n",
       "    <tr>\n",
       "      <th>...</th>\n",
       "      <td>...</td>\n",
       "      <td>...</td>\n",
       "      <td>...</td>\n",
       "      <td>...</td>\n",
       "      <td>...</td>\n",
       "      <td>...</td>\n",
       "    </tr>\n",
       "    <tr>\n",
       "      <th>1015</th>\n",
       "      <td>Wyoming</td>\n",
       "      <td>0.04</td>\n",
       "      <td>0.24</td>\n",
       "      <td>2019</td>\n",
       "      <td>5581</td>\n",
       "      <td>WY</td>\n",
       "    </tr>\n",
       "    <tr>\n",
       "      <th>1016</th>\n",
       "      <td>Wyoming</td>\n",
       "      <td>0.04</td>\n",
       "      <td>0.24</td>\n",
       "      <td>2020</td>\n",
       "      <td>5792</td>\n",
       "      <td>WY</td>\n",
       "    </tr>\n",
       "    <tr>\n",
       "      <th>1017</th>\n",
       "      <td>Wyoming</td>\n",
       "      <td>0.04</td>\n",
       "      <td>0.24</td>\n",
       "      <td>2021</td>\n",
       "      <td>6097</td>\n",
       "      <td>WY</td>\n",
       "    </tr>\n",
       "    <tr>\n",
       "      <th>1018</th>\n",
       "      <td>Wyoming</td>\n",
       "      <td>0.04</td>\n",
       "      <td>0.24</td>\n",
       "      <td>2022</td>\n",
       "      <td>6441</td>\n",
       "      <td>WY</td>\n",
       "    </tr>\n",
       "    <tr>\n",
       "      <th>1019</th>\n",
       "      <td>Wyoming</td>\n",
       "      <td>0.04</td>\n",
       "      <td>0.24</td>\n",
       "      <td>2023</td>\n",
       "      <td>6698</td>\n",
       "      <td>WY</td>\n",
       "    </tr>\n",
       "  </tbody>\n",
       "</table>\n",
       "<p>1020 rows × 6 columns</p>\n",
       "</div>"
      ],
      "text/plain": [
       "        State  1-Year % Change  5-Year % Change  Year  Tuition State_Code\n",
       "0     Alabama             0.02             0.10  2004     4510         AL\n",
       "1     Alabama             0.02             0.10  2005     4782         AL\n",
       "2     Alabama             0.02             0.10  2006     4906         AL\n",
       "3     Alabama             0.02             0.10  2007     5244         AL\n",
       "4     Alabama             0.02             0.10  2008     5968         AL\n",
       "...       ...              ...              ...   ...      ...        ...\n",
       "1015  Wyoming             0.04             0.24  2019     5581         WY\n",
       "1016  Wyoming             0.04             0.24  2020     5792         WY\n",
       "1017  Wyoming             0.04             0.24  2021     6097         WY\n",
       "1018  Wyoming             0.04             0.24  2022     6441         WY\n",
       "1019  Wyoming             0.04             0.24  2023     6698         WY\n",
       "\n",
       "[1020 rows x 6 columns]"
      ]
     },
     "execution_count": 13,
     "metadata": {},
     "output_type": "execute_result"
    }
   ],
   "source": [
    "state_codes = {\n",
    "    'Alabama': 'AL', 'Alaska': 'AK', 'Arizona': 'AZ', 'Arkansas': 'AR', 'California': 'CA',\n",
    "    'Colorado': 'CO', 'Connecticut': 'CT', 'Delaware': 'DE', 'Florida': 'FL', 'Georgia': 'GA',\n",
    "    'Hawaii': 'HI', 'Idaho': 'ID', 'Illinois': 'IL', 'Indiana': 'IN', 'Iowa': 'IA', 'Kansas': 'KS',\n",
    "    'Kentucky': 'KY', 'Louisiana': 'LA', 'Maine': 'ME', 'Maryland': 'MD', 'Massachusetts': 'MA',\n",
    "    'Michigan': 'MI', 'Minnesota': 'MN', 'Mississippi': 'MS', 'Missouri': 'MO', 'Montana': 'MT',\n",
    "    'Nebraska': 'NE', 'Nevada': 'NV', 'New Hampshire': 'NH', 'New Jersey': 'NJ', 'New Mexico': 'NM',\n",
    "    'New York': 'NY', 'North Carolina': 'NC', 'North Dakota': 'ND', 'Ohio': 'OH', 'Oklahoma': 'OK',\n",
    "    'Oregon': 'OR', 'Pennsylvania': 'PA', 'Rhode Island': 'RI', 'South Carolina': 'SC',\n",
    "    'South Dakota': 'SD', 'Tennessee': 'TN', 'Texas': 'TX', 'Utah': 'UT', 'Vermont': 'VT',\n",
    "    'Virginia': 'VA', 'Washington': 'WA', 'West Virginia': 'WV', 'Wisconsin': 'WI', 'Wyoming': 'WY',\n",
    "    'District of Columbia': 'DC'\n",
    "}\n",
    "\n",
    "# Add state codes to the melted DataFrame\n",
    "df['State_Code'] = df['State'].map(state_codes)\n",
    "df"
   ]
  },
  {
   "cell_type": "code",
   "execution_count": 14,
   "metadata": {},
   "outputs": [
    {
     "data": {
      "application/vnd.plotly.v1+json": {
       "config": {
        "plotlyServerURL": "https://plot.ly"
       },
       "data": [
        {
         "coloraxis": "coloraxis",
         "customdata": [
          [
           4510
          ],
          [
           3435
          ],
          [
           4078
          ],
          [
           4581
          ],
          [
           4195
          ],
          [
           3733
          ],
          [
           6336
          ],
          [
           6629
          ],
          [
           2520
          ],
          [
           3054
          ],
          [
           3411
          ],
          [
           3386
          ],
          [
           3591
          ],
          [
           6494
          ],
          [
           5847
          ],
          [
           5407
          ],
          [
           4242
          ],
          [
           4476
          ],
          [
           3534
          ],
          [
           5601
          ],
          [
           6770
          ],
          [
           7034
          ],
          [
           6294
          ],
          [
           6463
          ],
          [
           3991
          ],
          [
           5934
          ],
          [
           4468
          ],
          [
           4720
          ],
          [
           2874
          ],
          [
           8085
          ],
          [
           7979
          ],
          [
           3909
          ],
          [
           4948
          ],
          [
           3566
          ],
          [
           4606
          ],
          [
           8236
          ],
          [
           3535
          ],
          [
           5221
          ],
          [
           8249
          ],
          [
           5933
          ],
          [
           6611
          ],
          [
           4348
          ],
          [
           4306
          ],
          [
           5075
          ],
          [
           3274
          ],
          [
           8783
          ],
          [
           5579
          ],
          [
           4914
          ],
          [
           3631
          ],
          [
           5218
          ],
          [
           3243
          ]
         ],
         "geo": "geo",
         "hovertemplate": "<b>%{hovertext}</b><br><br>Year=2004<br>State_Code=%{location}<br>Tuition=%{z}<extra></extra>",
         "hovertext": [
          "Alabama",
          "Alaska",
          "Arizona",
          "Arkansas",
          "California",
          "Colorado",
          "Connecticut",
          "Delaware",
          "District of Columbia",
          "Florida",
          "Georgia",
          "Hawaii",
          "Idaho",
          "Illinois",
          "Indiana",
          "Iowa",
          "Kansas",
          "Kentucky",
          "Louisiana",
          "Maine",
          "Maryland",
          "Massachusetts",
          "Michigan",
          "Minnesota",
          "Mississippi",
          "Missouri",
          "Montana",
          "Nebraska",
          "Nevada",
          "New Hampshire",
          "New Jersey",
          "New Mexico",
          "New York",
          "North Carolina",
          "North Dakota",
          "Ohio",
          "Oklahoma",
          "Oregon",
          "Pennsylvania",
          "Rhode Island",
          "South Carolina",
          "South Dakota",
          "Tennessee",
          "Texas",
          "Utah",
          "Vermont",
          "Virginia",
          "Washington",
          "West Virginia",
          "Wisconsin",
          "Wyoming"
         ],
         "locationmode": "USA-states",
         "locations": [
          "AL",
          "AK",
          "AZ",
          "AR",
          "CA",
          "CO",
          "CT",
          "DE",
          "DC",
          "FL",
          "GA",
          "HI",
          "ID",
          "IL",
          "IN",
          "IA",
          "KS",
          "KY",
          "LA",
          "ME",
          "MD",
          "MA",
          "MI",
          "MN",
          "MS",
          "MO",
          "MT",
          "NE",
          "NV",
          "NH",
          "NJ",
          "NM",
          "NY",
          "NC",
          "ND",
          "OH",
          "OK",
          "OR",
          "PA",
          "RI",
          "SC",
          "SD",
          "TN",
          "TX",
          "UT",
          "VT",
          "VA",
          "WA",
          "WV",
          "WI",
          "WY"
         ],
         "name": "",
         "type": "choropleth",
         "z": [
          4510,
          3435,
          4078,
          4581,
          4195,
          3733,
          6336,
          6629,
          2520,
          3054,
          3411,
          3386,
          3591,
          6494,
          5847,
          5407,
          4242,
          4476,
          3534,
          5601,
          6770,
          7034,
          6294,
          6463,
          3991,
          5934,
          4468,
          4720,
          2874,
          8085,
          7979,
          3909,
          4948,
          3566,
          4606,
          8236,
          3535,
          5221,
          8249,
          5933,
          6611,
          4348,
          4306,
          5075,
          3274,
          8783,
          5579,
          4914,
          3631,
          5218,
          3243
         ]
        }
       ],
       "frames": [
        {
         "data": [
          {
           "coloraxis": "coloraxis",
           "customdata": [
            [
             4510
            ],
            [
             3435
            ],
            [
             4078
            ],
            [
             4581
            ],
            [
             4195
            ],
            [
             3733
            ],
            [
             6336
            ],
            [
             6629
            ],
            [
             2520
            ],
            [
             3054
            ],
            [
             3411
            ],
            [
             3386
            ],
            [
             3591
            ],
            [
             6494
            ],
            [
             5847
            ],
            [
             5407
            ],
            [
             4242
            ],
            [
             4476
            ],
            [
             3534
            ],
            [
             5601
            ],
            [
             6770
            ],
            [
             7034
            ],
            [
             6294
            ],
            [
             6463
            ],
            [
             3991
            ],
            [
             5934
            ],
            [
             4468
            ],
            [
             4720
            ],
            [
             2874
            ],
            [
             8085
            ],
            [
             7979
            ],
            [
             3909
            ],
            [
             4948
            ],
            [
             3566
            ],
            [
             4606
            ],
            [
             8236
            ],
            [
             3535
            ],
            [
             5221
            ],
            [
             8249
            ],
            [
             5933
            ],
            [
             6611
            ],
            [
             4348
            ],
            [
             4306
            ],
            [
             5075
            ],
            [
             3274
            ],
            [
             8783
            ],
            [
             5579
            ],
            [
             4914
            ],
            [
             3631
            ],
            [
             5218
            ],
            [
             3243
            ]
           ],
           "geo": "geo",
           "hovertemplate": "<b>%{hovertext}</b><br><br>Year=2004<br>State_Code=%{location}<br>Tuition=%{z}<extra></extra>",
           "hovertext": [
            "Alabama",
            "Alaska",
            "Arizona",
            "Arkansas",
            "California",
            "Colorado",
            "Connecticut",
            "Delaware",
            "District of Columbia",
            "Florida",
            "Georgia",
            "Hawaii",
            "Idaho",
            "Illinois",
            "Indiana",
            "Iowa",
            "Kansas",
            "Kentucky",
            "Louisiana",
            "Maine",
            "Maryland",
            "Massachusetts",
            "Michigan",
            "Minnesota",
            "Mississippi",
            "Missouri",
            "Montana",
            "Nebraska",
            "Nevada",
            "New Hampshire",
            "New Jersey",
            "New Mexico",
            "New York",
            "North Carolina",
            "North Dakota",
            "Ohio",
            "Oklahoma",
            "Oregon",
            "Pennsylvania",
            "Rhode Island",
            "South Carolina",
            "South Dakota",
            "Tennessee",
            "Texas",
            "Utah",
            "Vermont",
            "Virginia",
            "Washington",
            "West Virginia",
            "Wisconsin",
            "Wyoming"
           ],
           "locationmode": "USA-states",
           "locations": [
            "AL",
            "AK",
            "AZ",
            "AR",
            "CA",
            "CO",
            "CT",
            "DE",
            "DC",
            "FL",
            "GA",
            "HI",
            "ID",
            "IL",
            "IN",
            "IA",
            "KS",
            "KY",
            "LA",
            "ME",
            "MD",
            "MA",
            "MI",
            "MN",
            "MS",
            "MO",
            "MT",
            "NE",
            "NV",
            "NH",
            "NJ",
            "NM",
            "NY",
            "NC",
            "ND",
            "OH",
            "OK",
            "OR",
            "PA",
            "RI",
            "SC",
            "SD",
            "TN",
            "TX",
            "UT",
            "VT",
            "VA",
            "WA",
            "WV",
            "WI",
            "WY"
           ],
           "name": "",
           "type": "choropleth",
           "z": [
            4510,
            3435,
            4078,
            4581,
            4195,
            3733,
            6336,
            6629,
            2520,
            3054,
            3411,
            3386,
            3591,
            6494,
            5847,
            5407,
            4242,
            4476,
            3534,
            5601,
            6770,
            7034,
            6294,
            6463,
            3991,
            5934,
            4468,
            4720,
            2874,
            8085,
            7979,
            3909,
            4948,
            3566,
            4606,
            8236,
            3535,
            5221,
            8249,
            5933,
            6611,
            4348,
            4306,
            5075,
            3274,
            8783,
            5579,
            4914,
            3631,
            5218,
            3243
           ]
          }
         ],
         "name": "2004"
        },
        {
         "data": [
          {
           "coloraxis": "coloraxis",
           "customdata": [
            [
             4782
            ],
            [
             3793
            ],
            [
             4434
            ],
            [
             4980
            ],
            [
             4526
            ],
            [
             4427
            ],
            [
             6754
            ],
            [
             7050
            ],
            [
             2520
            ],
            [
             3213
            ],
            [
             3678
            ],
            [
             3491
            ],
            [
             3922
            ],
            [
             6914
            ],
            [
             6155
            ],
            [
             5619
            ],
            [
             4699
            ],
            [
             5029
            ],
            [
             3695
            ],
            [
             6065
            ],
            [
             7137
            ],
            [
             7335
            ],
            [
             7097
            ],
            [
             6944
            ],
            [
             4184
            ],
            [
             6271
            ],
            [
             4918
            ],
            [
             5302
            ],
            [
             3019
            ],
            [
             8584
            ],
            [
             8601
            ],
            [
             4247
            ],
            [
             5006
            ],
            [
             3655
            ],
            [
             5074
            ],
            [
             8340
            ],
            [
             3798
            ],
            [
             5430
            ],
            [
             8643
            ],
            [
             6439
            ],
            [
             7385
            ],
            [
             4593
            ],
            [
             4763
            ],
            [
             5385
            ],
            [
             3583
            ],
            [
             9248
            ],
            [
             6023
            ],
            [
             5252
            ],
            [
             3871
            ],
            [
             5626
            ],
            [
             3429
            ]
           ],
           "geo": "geo",
           "hovertemplate": "<b>%{hovertext}</b><br><br>Year=2005<br>State_Code=%{location}<br>Tuition=%{z}<extra></extra>",
           "hovertext": [
            "Alabama",
            "Alaska",
            "Arizona",
            "Arkansas",
            "California",
            "Colorado",
            "Connecticut",
            "Delaware",
            "District of Columbia",
            "Florida",
            "Georgia",
            "Hawaii",
            "Idaho",
            "Illinois",
            "Indiana",
            "Iowa",
            "Kansas",
            "Kentucky",
            "Louisiana",
            "Maine",
            "Maryland",
            "Massachusetts",
            "Michigan",
            "Minnesota",
            "Mississippi",
            "Missouri",
            "Montana",
            "Nebraska",
            "Nevada",
            "New Hampshire",
            "New Jersey",
            "New Mexico",
            "New York",
            "North Carolina",
            "North Dakota",
            "Ohio",
            "Oklahoma",
            "Oregon",
            "Pennsylvania",
            "Rhode Island",
            "South Carolina",
            "South Dakota",
            "Tennessee",
            "Texas",
            "Utah",
            "Vermont",
            "Virginia",
            "Washington",
            "West Virginia",
            "Wisconsin",
            "Wyoming"
           ],
           "locationmode": "USA-states",
           "locations": [
            "AL",
            "AK",
            "AZ",
            "AR",
            "CA",
            "CO",
            "CT",
            "DE",
            "DC",
            "FL",
            "GA",
            "HI",
            "ID",
            "IL",
            "IN",
            "IA",
            "KS",
            "KY",
            "LA",
            "ME",
            "MD",
            "MA",
            "MI",
            "MN",
            "MS",
            "MO",
            "MT",
            "NE",
            "NV",
            "NH",
            "NJ",
            "NM",
            "NY",
            "NC",
            "ND",
            "OH",
            "OK",
            "OR",
            "PA",
            "RI",
            "SC",
            "SD",
            "TN",
            "TX",
            "UT",
            "VT",
            "VA",
            "WA",
            "WV",
            "WI",
            "WY"
           ],
           "name": "",
           "type": "choropleth",
           "z": [
            4782,
            3793,
            4434,
            4980,
            4526,
            4427,
            6754,
            7050,
            2520,
            3213,
            3678,
            3491,
            3922,
            6914,
            6155,
            5619,
            4699,
            5029,
            3695,
            6065,
            7137,
            7335,
            7097,
            6944,
            4184,
            6271,
            4918,
            5302,
            3019,
            8584,
            8601,
            4247,
            5006,
            3655,
            5074,
            8340,
            3798,
            5430,
            8643,
            6439,
            7385,
            4593,
            4763,
            5385,
            3583,
            9248,
            6023,
            5252,
            3871,
            5626,
            3429
           ]
          }
         ],
         "name": "2005"
        },
        {
         "data": [
          {
           "coloraxis": "coloraxis",
           "customdata": [
            [
             4906
            ],
            [
             4194
            ],
            [
             4674
            ],
            [
             5314
            ],
            [
             4549
            ],
            [
             4772
            ],
            [
             7135
            ],
            [
             7403
            ],
            [
             3210
            ],
            [
             3315
            ],
            [
             3909
            ],
            [
             4227
            ],
            [
             4156
            ],
            [
             8058
            ],
            [
             6555
            ],
            [
             5900
            ],
            [
             5213
            ],
            [
             5764
            ],
            [
             3770
            ],
            [
             6616
            ],
            [
             7216
            ],
            [
             7583
            ],
            [
             7673
            ],
            [
             7518
            ],
            [
             4450
            ],
            [
             6526
            ],
            [
             5258
            ],
            [
             5229
            ],
            [
             3645
            ],
            [
             9127
            ],
            [
             9331
            ],
            [
             4056
            ],
            [
             5041
            ],
            [
             4067
            ],
            [
             5512
            ],
            [
             8444
            ],
            [
             4432
            ],
            [
             5576
            ],
            [
             9051
            ],
            [
             6787
            ],
            [
             7913
            ],
            [
             4969
            ],
            [
             4973
            ],
            [
             5985
            ],
            [
             3816
            ],
            [
             9783
            ],
            [
             6556
            ],
            [
             5670
            ],
            [
             4166
            ],
            [
             6042
            ],
            [
             3515
            ]
           ],
           "geo": "geo",
           "hovertemplate": "<b>%{hovertext}</b><br><br>Year=2006<br>State_Code=%{location}<br>Tuition=%{z}<extra></extra>",
           "hovertext": [
            "Alabama",
            "Alaska",
            "Arizona",
            "Arkansas",
            "California",
            "Colorado",
            "Connecticut",
            "Delaware",
            "District of Columbia",
            "Florida",
            "Georgia",
            "Hawaii",
            "Idaho",
            "Illinois",
            "Indiana",
            "Iowa",
            "Kansas",
            "Kentucky",
            "Louisiana",
            "Maine",
            "Maryland",
            "Massachusetts",
            "Michigan",
            "Minnesota",
            "Mississippi",
            "Missouri",
            "Montana",
            "Nebraska",
            "Nevada",
            "New Hampshire",
            "New Jersey",
            "New Mexico",
            "New York",
            "North Carolina",
            "North Dakota",
            "Ohio",
            "Oklahoma",
            "Oregon",
            "Pennsylvania",
            "Rhode Island",
            "South Carolina",
            "South Dakota",
            "Tennessee",
            "Texas",
            "Utah",
            "Vermont",
            "Virginia",
            "Washington",
            "West Virginia",
            "Wisconsin",
            "Wyoming"
           ],
           "locationmode": "USA-states",
           "locations": [
            "AL",
            "AK",
            "AZ",
            "AR",
            "CA",
            "CO",
            "CT",
            "DE",
            "DC",
            "FL",
            "GA",
            "HI",
            "ID",
            "IL",
            "IN",
            "IA",
            "KS",
            "KY",
            "LA",
            "ME",
            "MD",
            "MA",
            "MI",
            "MN",
            "MS",
            "MO",
            "MT",
            "NE",
            "NV",
            "NH",
            "NJ",
            "NM",
            "NY",
            "NC",
            "ND",
            "OH",
            "OK",
            "OR",
            "PA",
            "RI",
            "SC",
            "SD",
            "TN",
            "TX",
            "UT",
            "VT",
            "VA",
            "WA",
            "WV",
            "WI",
            "WY"
           ],
           "name": "",
           "type": "choropleth",
           "z": [
            4906,
            4194,
            4674,
            5314,
            4549,
            4772,
            7135,
            7403,
            3210,
            3315,
            3909,
            4227,
            4156,
            8058,
            6555,
            5900,
            5213,
            5764,
            3770,
            6616,
            7216,
            7583,
            7673,
            7518,
            4450,
            6526,
            5258,
            5229,
            3645,
            9127,
            9331,
            4056,
            5041,
            4067,
            5512,
            8444,
            4432,
            5576,
            9051,
            6787,
            7913,
            4969,
            4973,
            5985,
            3816,
            9783,
            6556,
            5670,
            4166,
            6042,
            3515
           ]
          }
         ],
         "name": "2006"
        },
        {
         "data": [
          {
           "coloraxis": "coloraxis",
           "customdata": [
            [
             5244
            ],
            [
             4425
            ],
            [
             4959
            ],
            [
             5599
            ],
            [
             4951
            ],
            [
             5435
            ],
            [
             7574
            ],
            [
             7808
            ],
            [
             3770
            ],
            [
             3386
            ],
            [
             4181
            ],
            [
             5017
            ],
            [
             4382
            ],
            [
             9099
            ],
            [
             6875
            ],
            [
             6218
            ],
            [
             5746
            ],
            [
             6279
            ],
            [
             3830
            ],
            [
             7334
            ],
            [
             7314
            ],
            [
             7887
            ],
            [
             8499
            ],
            [
             7798
            ],
            [
             4757
            ],
            [
             6845
            ],
            [
             5302
            ],
            [
             5581
            ],
            [
             3948
            ],
            [
             9698
            ],
            [
             9974
            ],
            [
             4248
            ],
            [
             5076
            ],
            [
             4306
            ],
            [
             5803
            ],
            [
             8462
            ],
            [
             4993
            ],
            [
             5946
            ],
            [
             9792
            ],
            [
             7221
            ],
            [
             8371
            ],
            [
             5343
            ],
            [
             5365
            ],
            [
             6450
            ],
            [
             4059
            ],
            [
             10485
            ],
            [
             7008
            ],
            [
             5986
            ],
            [
             4406
            ],
            [
             6413
            ],
            [
             3554
            ]
           ],
           "geo": "geo",
           "hovertemplate": "<b>%{hovertext}</b><br><br>Year=2007<br>State_Code=%{location}<br>Tuition=%{z}<extra></extra>",
           "hovertext": [
            "Alabama",
            "Alaska",
            "Arizona",
            "Arkansas",
            "California",
            "Colorado",
            "Connecticut",
            "Delaware",
            "District of Columbia",
            "Florida",
            "Georgia",
            "Hawaii",
            "Idaho",
            "Illinois",
            "Indiana",
            "Iowa",
            "Kansas",
            "Kentucky",
            "Louisiana",
            "Maine",
            "Maryland",
            "Massachusetts",
            "Michigan",
            "Minnesota",
            "Mississippi",
            "Missouri",
            "Montana",
            "Nebraska",
            "Nevada",
            "New Hampshire",
            "New Jersey",
            "New Mexico",
            "New York",
            "North Carolina",
            "North Dakota",
            "Ohio",
            "Oklahoma",
            "Oregon",
            "Pennsylvania",
            "Rhode Island",
            "South Carolina",
            "South Dakota",
            "Tennessee",
            "Texas",
            "Utah",
            "Vermont",
            "Virginia",
            "Washington",
            "West Virginia",
            "Wisconsin",
            "Wyoming"
           ],
           "locationmode": "USA-states",
           "locations": [
            "AL",
            "AK",
            "AZ",
            "AR",
            "CA",
            "CO",
            "CT",
            "DE",
            "DC",
            "FL",
            "GA",
            "HI",
            "ID",
            "IL",
            "IN",
            "IA",
            "KS",
            "KY",
            "LA",
            "ME",
            "MD",
            "MA",
            "MI",
            "MN",
            "MS",
            "MO",
            "MT",
            "NE",
            "NV",
            "NH",
            "NJ",
            "NM",
            "NY",
            "NC",
            "ND",
            "OH",
            "OK",
            "OR",
            "PA",
            "RI",
            "SC",
            "SD",
            "TN",
            "TX",
            "UT",
            "VT",
            "VA",
            "WA",
            "WV",
            "WI",
            "WY"
           ],
           "name": "",
           "type": "choropleth",
           "z": [
            5244,
            4425,
            4959,
            5599,
            4951,
            5435,
            7574,
            7808,
            3770,
            3386,
            4181,
            5017,
            4382,
            9099,
            6875,
            6218,
            5746,
            6279,
            3830,
            7334,
            7314,
            7887,
            8499,
            7798,
            4757,
            6845,
            5302,
            5581,
            3948,
            9698,
            9974,
            4248,
            5076,
            4306,
            5803,
            8462,
            4993,
            5946,
            9792,
            7221,
            8371,
            5343,
            5365,
            6450,
            4059,
            10485,
            7008,
            5986,
            4406,
            6413,
            3554
           ]
          }
         ],
         "name": "2007"
        },
        {
         "data": [
          {
           "coloraxis": "coloraxis",
           "customdata": [
            [
             5968
            ],
            [
             4678
            ],
            [
             5584
            ],
            [
             5914
            ],
            [
             5436
            ],
            [
             5792
            ],
            [
             8038
            ],
            [
             8291
            ],
            [
             3770
            ],
            [
             3825
            ],
            [
             4453
            ],
            [
             5823
            ],
            [
             4612
            ],
            [
             10021
            ],
            [
             7222
            ],
            [
             6433
            ],
            [
             6010
            ],
            [
             6809
            ],
            [
             4073
            ],
            [
             8078
            ],
            [
             7392
            ],
            [
             8239
            ],
            [
             9130
            ],
            [
             8317
            ],
            [
             4947
            ],
            [
             7228
            ],
            [
             5336
            ],
            [
             5956
            ],
            [
             4397
            ],
            [
             10293
            ],
            [
             10748
            ],
            [
             4520
            ],
            [
             5121
            ],
            [
             4391
            ],
            [
             6107
            ],
            [
             8474
            ],
            [
             5641
            ],
            [
             6239
            ],
            [
             10353
            ],
            [
             7727
            ],
            [
             9132
            ],
            [
             5698
            ],
            [
             5686
            ],
            [
             6919
            ],
            [
             4275
            ],
            [
             11341
            ],
            [
             7581
            ],
            [
             6433
            ],
            [
             4707
            ],
            [
             6796
            ],
            [
             3621
            ]
           ],
           "geo": "geo",
           "hovertemplate": "<b>%{hovertext}</b><br><br>Year=2008<br>State_Code=%{location}<br>Tuition=%{z}<extra></extra>",
           "hovertext": [
            "Alabama",
            "Alaska",
            "Arizona",
            "Arkansas",
            "California",
            "Colorado",
            "Connecticut",
            "Delaware",
            "District of Columbia",
            "Florida",
            "Georgia",
            "Hawaii",
            "Idaho",
            "Illinois",
            "Indiana",
            "Iowa",
            "Kansas",
            "Kentucky",
            "Louisiana",
            "Maine",
            "Maryland",
            "Massachusetts",
            "Michigan",
            "Minnesota",
            "Mississippi",
            "Missouri",
            "Montana",
            "Nebraska",
            "Nevada",
            "New Hampshire",
            "New Jersey",
            "New Mexico",
            "New York",
            "North Carolina",
            "North Dakota",
            "Ohio",
            "Oklahoma",
            "Oregon",
            "Pennsylvania",
            "Rhode Island",
            "South Carolina",
            "South Dakota",
            "Tennessee",
            "Texas",
            "Utah",
            "Vermont",
            "Virginia",
            "Washington",
            "West Virginia",
            "Wisconsin",
            "Wyoming"
           ],
           "locationmode": "USA-states",
           "locations": [
            "AL",
            "AK",
            "AZ",
            "AR",
            "CA",
            "CO",
            "CT",
            "DE",
            "DC",
            "FL",
            "GA",
            "HI",
            "ID",
            "IL",
            "IN",
            "IA",
            "KS",
            "KY",
            "LA",
            "ME",
            "MD",
            "MA",
            "MI",
            "MN",
            "MS",
            "MO",
            "MT",
            "NE",
            "NV",
            "NH",
            "NJ",
            "NM",
            "NY",
            "NC",
            "ND",
            "OH",
            "OK",
            "OR",
            "PA",
            "RI",
            "SC",
            "SD",
            "TN",
            "TX",
            "UT",
            "VT",
            "VA",
            "WA",
            "WV",
            "WI",
            "WY"
           ],
           "name": "",
           "type": "choropleth",
           "z": [
            5968,
            4678,
            5584,
            5914,
            5436,
            5792,
            8038,
            8291,
            3770,
            3825,
            4453,
            5823,
            4612,
            10021,
            7222,
            6433,
            6010,
            6809,
            4073,
            8078,
            7392,
            8239,
            9130,
            8317,
            4947,
            7228,
            5336,
            5956,
            4397,
            10293,
            10748,
            4520,
            5121,
            4391,
            6107,
            8474,
            5641,
            6239,
            10353,
            7727,
            9132,
            5698,
            5686,
            6919,
            4275,
            11341,
            7581,
            6433,
            4707,
            6796,
            3621
           ]
          }
         ],
         "name": "2008"
        },
        {
         "data": [
          {
           "coloraxis": "coloraxis",
           "customdata": [
            [
             6487
            ],
            [
             4922
            ],
            [
             6554
            ],
            [
             5980
            ],
            [
             6550
            ],
            [
             6270
            ],
            [
             8456
            ],
            [
             9012
            ],
            [
             5370
            ],
            [
             4316
            ],
            [
             5008
            ],
            [
             6638
            ],
            [
             4886
            ],
            [
             10410
            ],
            [
             7643
            ],
            [
             6712
            ],
            [
             6312
            ],
            [
             7116
            ],
            [
             4282
            ],
            [
             8544
            ],
            [
             7476
            ],
            [
             9239
            ],
            [
             9761
            ],
            [
             8788
            ],
            [
             4952
            ],
            [
             7215
            ],
            [
             5485
            ],
            [
             6234
            ],
            [
             4543
            ],
            [
             11075
            ],
            [
             11133
            ],
            [
             4786
            ],
            [
             5740
            ],
            [
             4539
            ],
            [
             6335
            ],
            [
             8505
            ],
            [
             5421
            ],
            [
             6906
            ],
            [
             10764
            ],
            [
             8503
            ],
            [
             9520
            ],
            [
             6031
            ],
            [
             6098
            ],
            [
             7328
            ],
            [
             4573
            ],
            [
             12016
            ],
            [
             7936
            ],
            [
             7321
            ],
            [
             4980
            ],
            [
             7169
            ],
            [
             3726
            ]
           ],
           "geo": "geo",
           "hovertemplate": "<b>%{hovertext}</b><br><br>Year=2009<br>State_Code=%{location}<br>Tuition=%{z}<extra></extra>",
           "hovertext": [
            "Alabama",
            "Alaska",
            "Arizona",
            "Arkansas",
            "California",
            "Colorado",
            "Connecticut",
            "Delaware",
            "District of Columbia",
            "Florida",
            "Georgia",
            "Hawaii",
            "Idaho",
            "Illinois",
            "Indiana",
            "Iowa",
            "Kansas",
            "Kentucky",
            "Louisiana",
            "Maine",
            "Maryland",
            "Massachusetts",
            "Michigan",
            "Minnesota",
            "Mississippi",
            "Missouri",
            "Montana",
            "Nebraska",
            "Nevada",
            "New Hampshire",
            "New Jersey",
            "New Mexico",
            "New York",
            "North Carolina",
            "North Dakota",
            "Ohio",
            "Oklahoma",
            "Oregon",
            "Pennsylvania",
            "Rhode Island",
            "South Carolina",
            "South Dakota",
            "Tennessee",
            "Texas",
            "Utah",
            "Vermont",
            "Virginia",
            "Washington",
            "West Virginia",
            "Wisconsin",
            "Wyoming"
           ],
           "locationmode": "USA-states",
           "locations": [
            "AL",
            "AK",
            "AZ",
            "AR",
            "CA",
            "CO",
            "CT",
            "DE",
            "DC",
            "FL",
            "GA",
            "HI",
            "ID",
            "IL",
            "IN",
            "IA",
            "KS",
            "KY",
            "LA",
            "ME",
            "MD",
            "MA",
            "MI",
            "MN",
            "MS",
            "MO",
            "MT",
            "NE",
            "NV",
            "NH",
            "NJ",
            "NM",
            "NY",
            "NC",
            "ND",
            "OH",
            "OK",
            "OR",
            "PA",
            "RI",
            "SC",
            "SD",
            "TN",
            "TX",
            "UT",
            "VT",
            "VA",
            "WA",
            "WV",
            "WI",
            "WY"
           ],
           "name": "",
           "type": "choropleth",
           "z": [
            6487,
            4922,
            6554,
            5980,
            6550,
            6270,
            8456,
            9012,
            5370,
            4316,
            5008,
            6638,
            4886,
            10410,
            7643,
            6712,
            6312,
            7116,
            4282,
            8544,
            7476,
            9239,
            9761,
            8788,
            4952,
            7215,
            5485,
            6234,
            4543,
            11075,
            11133,
            4786,
            5740,
            4539,
            6335,
            8505,
            5421,
            6906,
            10764,
            8503,
            9520,
            6031,
            6098,
            7328,
            4573,
            12016,
            7936,
            7321,
            4980,
            7169,
            3726
           ]
          }
         ],
         "name": "2009"
        },
        {
         "data": [
          {
           "coloraxis": "coloraxis",
           "customdata": [
            [
             7373
            ],
            [
             5261
            ],
            [
             8075
            ],
            [
             6304
            ],
            [
             7485
            ],
            [
             7078
            ],
            [
             8977
            ],
            [
             9623
            ],
            [
             7000
            ],
            [
             5034
            ],
            [
             5872
            ],
            [
             7458
            ],
            [
             5330
            ],
            [
             10969
            ],
            [
             7988
            ],
            [
             7155
            ],
            [
             6627
            ],
            [
             7519
            ],
            [
             4733
            ],
            [
             8945
            ],
            [
             7737
            ],
            [
             9488
            ],
            [
             10135
            ],
            [
             9387
            ],
            [
             5294
            ],
            [
             7271
            ],
            [
             5612
            ],
            [
             6600
            ],
            [
             5318
            ],
            [
             11946
            ],
            [
             11649
            ],
            [
             5128
            ],
            [
             5793
            ],
            [
             5323
            ],
            [
             6569
            ],
            [
             9056
            ],
            [
             5750
            ],
            [
             7434
            ],
            [
             11331
            ],
            [
             9319
            ],
            [
             10063
            ],
            [
             6318
            ],
            [
             6522
            ],
            [
             7744
            ],
            [
             4916
            ],
            [
             12474
            ],
            [
             8809
            ],
            [
             8197
            ],
            [
             5226
            ],
            [
             7711
            ],
            [
             3927
            ]
           ],
           "geo": "geo",
           "hovertemplate": "<b>%{hovertext}</b><br><br>Year=2010<br>State_Code=%{location}<br>Tuition=%{z}<extra></extra>",
           "hovertext": [
            "Alabama",
            "Alaska",
            "Arizona",
            "Arkansas",
            "California",
            "Colorado",
            "Connecticut",
            "Delaware",
            "District of Columbia",
            "Florida",
            "Georgia",
            "Hawaii",
            "Idaho",
            "Illinois",
            "Indiana",
            "Iowa",
            "Kansas",
            "Kentucky",
            "Louisiana",
            "Maine",
            "Maryland",
            "Massachusetts",
            "Michigan",
            "Minnesota",
            "Mississippi",
            "Missouri",
            "Montana",
            "Nebraska",
            "Nevada",
            "New Hampshire",
            "New Jersey",
            "New Mexico",
            "New York",
            "North Carolina",
            "North Dakota",
            "Ohio",
            "Oklahoma",
            "Oregon",
            "Pennsylvania",
            "Rhode Island",
            "South Carolina",
            "South Dakota",
            "Tennessee",
            "Texas",
            "Utah",
            "Vermont",
            "Virginia",
            "Washington",
            "West Virginia",
            "Wisconsin",
            "Wyoming"
           ],
           "locationmode": "USA-states",
           "locations": [
            "AL",
            "AK",
            "AZ",
            "AR",
            "CA",
            "CO",
            "CT",
            "DE",
            "DC",
            "FL",
            "GA",
            "HI",
            "ID",
            "IL",
            "IN",
            "IA",
            "KS",
            "KY",
            "LA",
            "ME",
            "MD",
            "MA",
            "MI",
            "MN",
            "MS",
            "MO",
            "MT",
            "NE",
            "NV",
            "NH",
            "NJ",
            "NM",
            "NY",
            "NC",
            "ND",
            "OH",
            "OK",
            "OR",
            "PA",
            "RI",
            "SC",
            "SD",
            "TN",
            "TX",
            "UT",
            "VT",
            "VA",
            "WA",
            "WV",
            "WI",
            "WY"
           ],
           "name": "",
           "type": "choropleth",
           "z": [
            7373,
            5261,
            8075,
            6304,
            7485,
            7078,
            8977,
            9623,
            7000,
            5034,
            5872,
            7458,
            5330,
            10969,
            7988,
            7155,
            6627,
            7519,
            4733,
            8945,
            7737,
            9488,
            10135,
            9387,
            5294,
            7271,
            5612,
            6600,
            5318,
            11946,
            11649,
            5128,
            5793,
            5323,
            6569,
            9056,
            5750,
            7434,
            11331,
            9319,
            10063,
            6318,
            6522,
            7744,
            4916,
            12474,
            8809,
            8197,
            5226,
            7711,
            3927
           ]
          }
         ],
         "name": "2010"
        },
        {
         "data": [
          {
           "coloraxis": "coloraxis",
           "customdata": [
            [
             8001
            ],
            [
             5455
            ],
            [
             9435
            ],
            [
             6654
            ],
            [
             8933
            ],
            [
             7872
            ],
            [
             9217
            ],
            [
             10438
            ],
            [
             7000
            ],
            [
             5624
            ],
            [
             7298
            ],
            [
             8368
            ],
            [
             5682
            ],
            [
             11630
            ],
            [
             8343
            ],
            [
             7562
            ],
            [
             6920
            ],
            [
             7974
            ],
            [
             5246
            ],
            [
             9366
            ],
            [
             7961
            ],
            [
             10165
            ],
            [
             10841
            ],
            [
             10018
            ],
            [
             5673
            ],
            [
             7685
            ],
            [
             5881
            ],
            [
             6906
            ],
            [
             6043
            ],
            [
             13502
            ],
            [
             12030
            ],
            [
             5435
            ],
            [
             6204
            ],
            [
             5689
            ],
            [
             6861
            ],
            [
             9448
            ],
            [
             6071
            ],
            [
             7994
            ],
            [
             12085
            ],
            [
             10014
            ],
            [
             10356
            ],
            [
             6793
            ],
            [
             7170
            ],
            [
             8053
            ],
            [
             5300
            ],
            [
             13095
            ],
            [
             9535
            ],
            [
             9494
            ],
            [
             5536
            ],
            [
             8197
            ],
            [
             4125
            ]
           ],
           "geo": "geo",
           "hovertemplate": "<b>%{hovertext}</b><br><br>Year=2011<br>State_Code=%{location}<br>Tuition=%{z}<extra></extra>",
           "hovertext": [
            "Alabama",
            "Alaska",
            "Arizona",
            "Arkansas",
            "California",
            "Colorado",
            "Connecticut",
            "Delaware",
            "District of Columbia",
            "Florida",
            "Georgia",
            "Hawaii",
            "Idaho",
            "Illinois",
            "Indiana",
            "Iowa",
            "Kansas",
            "Kentucky",
            "Louisiana",
            "Maine",
            "Maryland",
            "Massachusetts",
            "Michigan",
            "Minnesota",
            "Mississippi",
            "Missouri",
            "Montana",
            "Nebraska",
            "Nevada",
            "New Hampshire",
            "New Jersey",
            "New Mexico",
            "New York",
            "North Carolina",
            "North Dakota",
            "Ohio",
            "Oklahoma",
            "Oregon",
            "Pennsylvania",
            "Rhode Island",
            "South Carolina",
            "South Dakota",
            "Tennessee",
            "Texas",
            "Utah",
            "Vermont",
            "Virginia",
            "Washington",
            "West Virginia",
            "Wisconsin",
            "Wyoming"
           ],
           "locationmode": "USA-states",
           "locations": [
            "AL",
            "AK",
            "AZ",
            "AR",
            "CA",
            "CO",
            "CT",
            "DE",
            "DC",
            "FL",
            "GA",
            "HI",
            "ID",
            "IL",
            "IN",
            "IA",
            "KS",
            "KY",
            "LA",
            "ME",
            "MD",
            "MA",
            "MI",
            "MN",
            "MS",
            "MO",
            "MT",
            "NE",
            "NV",
            "NH",
            "NJ",
            "NM",
            "NY",
            "NC",
            "ND",
            "OH",
            "OK",
            "OR",
            "PA",
            "RI",
            "SC",
            "SD",
            "TN",
            "TX",
            "UT",
            "VT",
            "VA",
            "WA",
            "WV",
            "WI",
            "WY"
           ],
           "name": "",
           "type": "choropleth",
           "z": [
            8001,
            5455,
            9435,
            6654,
            8933,
            7872,
            9217,
            10438,
            7000,
            5624,
            7298,
            8368,
            5682,
            11630,
            8343,
            7562,
            6920,
            7974,
            5246,
            9366,
            7961,
            10165,
            10841,
            10018,
            5673,
            7685,
            5881,
            6906,
            6043,
            13502,
            12030,
            5435,
            6204,
            5689,
            6861,
            9448,
            6071,
            7994,
            12085,
            10014,
            10356,
            6793,
            7170,
            8053,
            5300,
            13095,
            9535,
            9494,
            5536,
            8197,
            4125
           ]
          }
         ],
         "name": "2011"
        },
        {
         "data": [
          {
           "coloraxis": "coloraxis",
           "customdata": [
            [
             8734
            ],
            [
             5785
            ],
            [
             9728
            ],
            [
             6995
            ],
            [
             8986
            ],
            [
             8441
            ],
            [
             9635
            ],
            [
             10908
            ],
            [
             7244
            ],
            [
             6235
            ],
            [
             7539
            ],
            [
             8613
            ],
            [
             5989
            ],
            [
             12168
            ],
            [
             8715
            ],
            [
             7831
            ],
            [
             7280
            ],
            [
             8462
            ],
            [
             5875
            ],
            [
             9363
            ],
            [
             8210
            ],
            [
             10649
            ],
            [
             11193
            ],
            [
             10361
            ],
            [
             6159
            ],
            [
             7945
            ],
            [
             6155
            ],
            [
             7184
            ],
            [
             6390
            ],
            [
             14615
            ],
            [
             12417
            ],
            [
             5678
            ],
            [
             6562
            ],
            [
             6201
            ],
            [
             7006
            ],
            [
             9768
            ],
            [
             6403
            ],
            [
             8312
            ],
            [
             12377
            ],
            [
             10921
            ],
            [
             10744
            ],
            [
             7388
            ],
            [
             7676
            ],
            [
             8344
            ],
            [
             5612
            ],
            [
             13525
            ],
            [
             9901
            ],
            [
             10595
            ],
            [
             5885
            ],
            [
             8690
            ],
            [
             4278
            ]
           ],
           "geo": "geo",
           "hovertemplate": "<b>%{hovertext}</b><br><br>Year=2012<br>State_Code=%{location}<br>Tuition=%{z}<extra></extra>",
           "hovertext": [
            "Alabama",
            "Alaska",
            "Arizona",
            "Arkansas",
            "California",
            "Colorado",
            "Connecticut",
            "Delaware",
            "District of Columbia",
            "Florida",
            "Georgia",
            "Hawaii",
            "Idaho",
            "Illinois",
            "Indiana",
            "Iowa",
            "Kansas",
            "Kentucky",
            "Louisiana",
            "Maine",
            "Maryland",
            "Massachusetts",
            "Michigan",
            "Minnesota",
            "Mississippi",
            "Missouri",
            "Montana",
            "Nebraska",
            "Nevada",
            "New Hampshire",
            "New Jersey",
            "New Mexico",
            "New York",
            "North Carolina",
            "North Dakota",
            "Ohio",
            "Oklahoma",
            "Oregon",
            "Pennsylvania",
            "Rhode Island",
            "South Carolina",
            "South Dakota",
            "Tennessee",
            "Texas",
            "Utah",
            "Vermont",
            "Virginia",
            "Washington",
            "West Virginia",
            "Wisconsin",
            "Wyoming"
           ],
           "locationmode": "USA-states",
           "locations": [
            "AL",
            "AK",
            "AZ",
            "AR",
            "CA",
            "CO",
            "CT",
            "DE",
            "DC",
            "FL",
            "GA",
            "HI",
            "ID",
            "IL",
            "IN",
            "IA",
            "KS",
            "KY",
            "LA",
            "ME",
            "MD",
            "MA",
            "MI",
            "MN",
            "MS",
            "MO",
            "MT",
            "NE",
            "NV",
            "NH",
            "NJ",
            "NM",
            "NY",
            "NC",
            "ND",
            "OH",
            "OK",
            "OR",
            "PA",
            "RI",
            "SC",
            "SD",
            "TN",
            "TX",
            "UT",
            "VT",
            "VA",
            "WA",
            "WV",
            "WI",
            "WY"
           ],
           "name": "",
           "type": "choropleth",
           "z": [
            8734,
            5785,
            9728,
            6995,
            8986,
            8441,
            9635,
            10908,
            7244,
            6235,
            7539,
            8613,
            5989,
            12168,
            8715,
            7831,
            7280,
            8462,
            5875,
            9363,
            8210,
            10649,
            11193,
            10361,
            6159,
            7945,
            6155,
            7184,
            6390,
            14615,
            12417,
            5678,
            6562,
            6201,
            7006,
            9768,
            6403,
            8312,
            12377,
            10921,
            10744,
            7388,
            7676,
            8344,
            5612,
            13525,
            9901,
            10595,
            5885,
            8690,
            4278
           ]
          }
         ],
         "name": "2012"
        },
        {
         "data": [
          {
           "coloraxis": "coloraxis",
           "customdata": [
            [
             9161
            ],
            [
             5885
            ],
            [
             10078
            ],
            [
             7251
            ],
            [
             9078
            ],
            [
             9096
            ],
            [
             10232
            ],
            [
             11259
            ],
            [
             7255
            ],
            [
             6315
            ],
            [
             7823
            ],
            [
             9073
            ],
            [
             6325
            ],
            [
             12580
            ],
            [
             8926
            ],
            [
             7837
            ],
            [
             7729
            ],
            [
             8701
            ],
            [
             6605
            ],
            [
             9391
            ],
            [
             8480
            ],
            [
             10748
            ],
            [
             11600
            ],
            [
             10464
            ],
            [
             6565
            ],
            [
             8093
            ],
            [
             6225
            ],
            [
             7315
            ],
            [
             6387
            ],
            [
             14652
            ],
            [
             12723
            ],
            [
             5960
            ],
            [
             6926
            ],
            [
             6516
            ],
            [
             7274
            ],
            [
             9942
            ],
            [
             6583
            ],
            [
             8600
            ],
            [
             12802
            ],
            [
             10896
            ],
            [
             11166
            ],
            [
             7644
            ],
            [
             8036
            ],
            [
             8521
            ],
            [
             5914
            ],
            [
             13965
            ],
            [
             10366
            ],
            [
             10811
            ],
            [
             6253
            ],
            [
             8741
            ],
            [
             4404
            ]
           ],
           "geo": "geo",
           "hovertemplate": "<b>%{hovertext}</b><br><br>Year=2013<br>State_Code=%{location}<br>Tuition=%{z}<extra></extra>",
           "hovertext": [
            "Alabama",
            "Alaska",
            "Arizona",
            "Arkansas",
            "California",
            "Colorado",
            "Connecticut",
            "Delaware",
            "District of Columbia",
            "Florida",
            "Georgia",
            "Hawaii",
            "Idaho",
            "Illinois",
            "Indiana",
            "Iowa",
            "Kansas",
            "Kentucky",
            "Louisiana",
            "Maine",
            "Maryland",
            "Massachusetts",
            "Michigan",
            "Minnesota",
            "Mississippi",
            "Missouri",
            "Montana",
            "Nebraska",
            "Nevada",
            "New Hampshire",
            "New Jersey",
            "New Mexico",
            "New York",
            "North Carolina",
            "North Dakota",
            "Ohio",
            "Oklahoma",
            "Oregon",
            "Pennsylvania",
            "Rhode Island",
            "South Carolina",
            "South Dakota",
            "Tennessee",
            "Texas",
            "Utah",
            "Vermont",
            "Virginia",
            "Washington",
            "West Virginia",
            "Wisconsin",
            "Wyoming"
           ],
           "locationmode": "USA-states",
           "locations": [
            "AL",
            "AK",
            "AZ",
            "AR",
            "CA",
            "CO",
            "CT",
            "DE",
            "DC",
            "FL",
            "GA",
            "HI",
            "ID",
            "IL",
            "IN",
            "IA",
            "KS",
            "KY",
            "LA",
            "ME",
            "MD",
            "MA",
            "MI",
            "MN",
            "MS",
            "MO",
            "MT",
            "NE",
            "NV",
            "NH",
            "NJ",
            "NM",
            "NY",
            "NC",
            "ND",
            "OH",
            "OK",
            "OR",
            "PA",
            "RI",
            "SC",
            "SD",
            "TN",
            "TX",
            "UT",
            "VT",
            "VA",
            "WA",
            "WV",
            "WI",
            "WY"
           ],
           "name": "",
           "type": "choropleth",
           "z": [
            9161,
            5885,
            10078,
            7251,
            9078,
            9096,
            10232,
            11259,
            7255,
            6315,
            7823,
            9073,
            6325,
            12580,
            8926,
            7837,
            7729,
            8701,
            6605,
            9391,
            8480,
            10748,
            11600,
            10464,
            6565,
            8093,
            6225,
            7315,
            6387,
            14652,
            12723,
            5960,
            6926,
            6516,
            7274,
            9942,
            6583,
            8600,
            12802,
            10896,
            11166,
            7644,
            8036,
            8521,
            5914,
            13965,
            10366,
            10811,
            6253,
            8741,
            4404
           ]
          }
         ],
         "name": "2013"
        },
        {
         "data": [
          {
           "coloraxis": "coloraxis",
           "customdata": [
            [
             9480
            ],
            [
             6138
            ],
            [
             10396
            ],
            [
             7594
            ],
            [
             9171
            ],
            [
             9283
            ],
            [
             10646
            ],
            [
             11495
            ],
            [
             7338
            ],
            [
             6334
            ],
            [
             8049
            ],
            [
             9696
            ],
            [
             6599
            ],
            [
             12791
            ],
            [
             9033
            ],
            [
             7855
            ],
            [
             8256
            ],
            [
             9208
            ],
            [
             7324
            ],
            [
             9544
            ],
            [
             8682
            ],
            [
             10968
            ],
            [
             11599
            ],
            [
             10564
            ],
            [
             6859
            ],
            [
             8395
            ],
            [
             6291
            ],
            [
             7335
            ],
            [
             6427
            ],
            [
             14731
            ],
            [
             13005
            ],
            [
             6155
            ],
            [
             7293
            ],
            [
             6673
            ],
            [
             7514
            ],
            [
             10087
            ],
            [
             7082
            ],
            [
             8934
            ],
            [
             13135
            ],
            [
             10959
            ],
            [
             11450
            ],
            [
             7700
            ],
            [
             8925
            ],
            [
             8837
            ],
            [
             6161
            ],
            [
             14476
            ],
            [
             11183
            ],
            [
             10685
            ],
            [
             6687
            ],
            [
             8770
            ],
            [
             4646
            ]
           ],
           "geo": "geo",
           "hovertemplate": "<b>%{hovertext}</b><br><br>Year=2014<br>State_Code=%{location}<br>Tuition=%{z}<extra></extra>",
           "hovertext": [
            "Alabama",
            "Alaska",
            "Arizona",
            "Arkansas",
            "California",
            "Colorado",
            "Connecticut",
            "Delaware",
            "District of Columbia",
            "Florida",
            "Georgia",
            "Hawaii",
            "Idaho",
            "Illinois",
            "Indiana",
            "Iowa",
            "Kansas",
            "Kentucky",
            "Louisiana",
            "Maine",
            "Maryland",
            "Massachusetts",
            "Michigan",
            "Minnesota",
            "Mississippi",
            "Missouri",
            "Montana",
            "Nebraska",
            "Nevada",
            "New Hampshire",
            "New Jersey",
            "New Mexico",
            "New York",
            "North Carolina",
            "North Dakota",
            "Ohio",
            "Oklahoma",
            "Oregon",
            "Pennsylvania",
            "Rhode Island",
            "South Carolina",
            "South Dakota",
            "Tennessee",
            "Texas",
            "Utah",
            "Vermont",
            "Virginia",
            "Washington",
            "West Virginia",
            "Wisconsin",
            "Wyoming"
           ],
           "locationmode": "USA-states",
           "locations": [
            "AL",
            "AK",
            "AZ",
            "AR",
            "CA",
            "CO",
            "CT",
            "DE",
            "DC",
            "FL",
            "GA",
            "HI",
            "ID",
            "IL",
            "IN",
            "IA",
            "KS",
            "KY",
            "LA",
            "ME",
            "MD",
            "MA",
            "MI",
            "MN",
            "MS",
            "MO",
            "MT",
            "NE",
            "NV",
            "NH",
            "NJ",
            "NM",
            "NY",
            "NC",
            "ND",
            "OH",
            "OK",
            "OR",
            "PA",
            "RI",
            "SC",
            "SD",
            "TN",
            "TX",
            "UT",
            "VT",
            "VA",
            "WA",
            "WV",
            "WI",
            "WY"
           ],
           "name": "",
           "type": "choropleth",
           "z": [
            9480,
            6138,
            10396,
            7594,
            9171,
            9283,
            10646,
            11495,
            7338,
            6334,
            8049,
            9696,
            6599,
            12791,
            9033,
            7855,
            8256,
            9208,
            7324,
            9544,
            8682,
            10968,
            11599,
            10564,
            6859,
            8395,
            6291,
            7335,
            6427,
            14731,
            13005,
            6155,
            7293,
            6673,
            7514,
            10087,
            7082,
            8934,
            13135,
            10959,
            11450,
            7700,
            8925,
            8837,
            6161,
            14476,
            11183,
            10685,
            6687,
            8770,
            4646
           ]
          }
         ],
         "name": "2014"
        },
        {
         "data": [
          {
           "coloraxis": "coloraxis",
           "customdata": [
            [
             9746
            ],
            [
             6703
            ],
            [
             10634
            ],
            [
             7882
            ],
            [
             9267
            ],
            [
             9748
            ],
            [
             11174
            ],
            [
             11676
            ],
            [
             7421
            ],
            [
             6360
            ],
            [
             8447
            ],
            [
             10175
            ],
            [
             6818
            ],
            [
             13027
            ],
            [
             9120
            ],
            [
             7877
            ],
            [
             8443
            ],
            [
             9567
            ],
            [
             8130
            ],
            [
             9573
            ],
            [
             9163
            ],
            [
             11615
            ],
            [
             11994
            ],
            [
             10831
            ],
            [
             7147
            ],
            [
             8553
            ],
            [
             6351
            ],
            [
             7608
            ],
            [
             6661
            ],
            [
             15160
            ],
            [
             13306
            ],
            [
             6406
            ],
            [
             7645
            ],
            [
             6969
            ],
            [
             7688
            ],
            [
             10205
            ],
            [
             7450
            ],
            [
             9371
            ],
            [
             13393
            ],
            [
             11396
            ],
            [
             11816
            ],
            [
             8055
            ],
            [
             9263
            ],
            [
             9221
            ],
            [
             6363
            ],
            [
             14993
            ],
            [
             11818
            ],
            [
             10287
            ],
            [
             7143
            ],
            [
             8809
            ],
            [
             4891
            ]
           ],
           "geo": "geo",
           "hovertemplate": "<b>%{hovertext}</b><br><br>Year=2015<br>State_Code=%{location}<br>Tuition=%{z}<extra></extra>",
           "hovertext": [
            "Alabama",
            "Alaska",
            "Arizona",
            "Arkansas",
            "California",
            "Colorado",
            "Connecticut",
            "Delaware",
            "District of Columbia",
            "Florida",
            "Georgia",
            "Hawaii",
            "Idaho",
            "Illinois",
            "Indiana",
            "Iowa",
            "Kansas",
            "Kentucky",
            "Louisiana",
            "Maine",
            "Maryland",
            "Massachusetts",
            "Michigan",
            "Minnesota",
            "Mississippi",
            "Missouri",
            "Montana",
            "Nebraska",
            "Nevada",
            "New Hampshire",
            "New Jersey",
            "New Mexico",
            "New York",
            "North Carolina",
            "North Dakota",
            "Ohio",
            "Oklahoma",
            "Oregon",
            "Pennsylvania",
            "Rhode Island",
            "South Carolina",
            "South Dakota",
            "Tennessee",
            "Texas",
            "Utah",
            "Vermont",
            "Virginia",
            "Washington",
            "West Virginia",
            "Wisconsin",
            "Wyoming"
           ],
           "locationmode": "USA-states",
           "locations": [
            "AL",
            "AK",
            "AZ",
            "AR",
            "CA",
            "CO",
            "CT",
            "DE",
            "DC",
            "FL",
            "GA",
            "HI",
            "ID",
            "IL",
            "IN",
            "IA",
            "KS",
            "KY",
            "LA",
            "ME",
            "MD",
            "MA",
            "MI",
            "MN",
            "MS",
            "MO",
            "MT",
            "NE",
            "NV",
            "NH",
            "NJ",
            "NM",
            "NY",
            "NC",
            "ND",
            "OH",
            "OK",
            "OR",
            "PA",
            "RI",
            "SC",
            "SD",
            "TN",
            "TX",
            "UT",
            "VT",
            "VA",
            "WA",
            "WV",
            "WI",
            "WY"
           ],
           "name": "",
           "type": "choropleth",
           "z": [
            9746,
            6703,
            10634,
            7882,
            9267,
            9748,
            11174,
            11676,
            7421,
            6360,
            8447,
            10175,
            6818,
            13027,
            9120,
            7877,
            8443,
            9567,
            8130,
            9573,
            9163,
            11615,
            11994,
            10831,
            7147,
            8553,
            6351,
            7608,
            6661,
            15160,
            13306,
            6406,
            7645,
            6969,
            7688,
            10205,
            7450,
            9371,
            13393,
            11396,
            11816,
            8055,
            9263,
            9221,
            6363,
            14993,
            11818,
            10287,
            7143,
            8809,
            4891
           ]
          }
         ],
         "name": "2015"
        },
        {
         "data": [
          {
           "coloraxis": "coloraxis",
           "customdata": [
            [
             10083
            ],
            [
             7128
            ],
            [
             10931
            ],
            [
             8254
            ],
            [
             9302
            ],
            [
             10287
            ],
            [
             11781
            ],
            [
             11929
            ],
            [
             7844
            ],
            [
             6355
            ],
            [
             8415
            ],
            [
             10651
            ],
            [
             7013
            ],
            [
             13440
            ],
            [
             9245
            ],
            [
             8270
            ],
            [
             8907
            ],
            [
             9971
            ],
            [
             8933
            ],
            [
             9687
            ],
            [
             9358
            ],
            [
             12312
            ],
            [
             12477
            ],
            [
             11016
            ],
            [
             7481
            ],
            [
             8628
            ],
            [
             6431
            ],
            [
             7894
            ],
            [
             6910
            ],
            [
             15700
            ],
            [
             13562
            ],
            [
             6636
            ],
            [
             7710
            ],
            [
             7199
            ],
            [
             7890
            ],
            [
             10307
            ],
            [
             8032
            ],
            [
             9740
            ],
            [
             13944
            ],
            [
             11423
            ],
            [
             12207
            ],
            [
             8161
            ],
            [
             9537
            ],
            [
             9536
            ],
            [
             6560
            ],
            [
             15562
            ],
            [
             12353
            ],
            [
             9270
            ],
            [
             7492
            ],
            [
             8933
            ],
            [
             5055
            ]
           ],
           "geo": "geo",
           "hovertemplate": "<b>%{hovertext}</b><br><br>Year=2016<br>State_Code=%{location}<br>Tuition=%{z}<extra></extra>",
           "hovertext": [
            "Alabama",
            "Alaska",
            "Arizona",
            "Arkansas",
            "California",
            "Colorado",
            "Connecticut",
            "Delaware",
            "District of Columbia",
            "Florida",
            "Georgia",
            "Hawaii",
            "Idaho",
            "Illinois",
            "Indiana",
            "Iowa",
            "Kansas",
            "Kentucky",
            "Louisiana",
            "Maine",
            "Maryland",
            "Massachusetts",
            "Michigan",
            "Minnesota",
            "Mississippi",
            "Missouri",
            "Montana",
            "Nebraska",
            "Nevada",
            "New Hampshire",
            "New Jersey",
            "New Mexico",
            "New York",
            "North Carolina",
            "North Dakota",
            "Ohio",
            "Oklahoma",
            "Oregon",
            "Pennsylvania",
            "Rhode Island",
            "South Carolina",
            "South Dakota",
            "Tennessee",
            "Texas",
            "Utah",
            "Vermont",
            "Virginia",
            "Washington",
            "West Virginia",
            "Wisconsin",
            "Wyoming"
           ],
           "locationmode": "USA-states",
           "locations": [
            "AL",
            "AK",
            "AZ",
            "AR",
            "CA",
            "CO",
            "CT",
            "DE",
            "DC",
            "FL",
            "GA",
            "HI",
            "ID",
            "IL",
            "IN",
            "IA",
            "KS",
            "KY",
            "LA",
            "ME",
            "MD",
            "MA",
            "MI",
            "MN",
            "MS",
            "MO",
            "MT",
            "NE",
            "NV",
            "NH",
            "NJ",
            "NM",
            "NY",
            "NC",
            "ND",
            "OH",
            "OK",
            "OR",
            "PA",
            "RI",
            "SC",
            "SD",
            "TN",
            "TX",
            "UT",
            "VT",
            "VA",
            "WA",
            "WV",
            "WI",
            "WY"
           ],
           "name": "",
           "type": "choropleth",
           "z": [
            10083,
            7128,
            10931,
            8254,
            9302,
            10287,
            11781,
            11929,
            7844,
            6355,
            8415,
            10651,
            7013,
            13440,
            9245,
            8270,
            8907,
            9971,
            8933,
            9687,
            9358,
            12312,
            12477,
            11016,
            7481,
            8628,
            6431,
            7894,
            6910,
            15700,
            13562,
            6636,
            7710,
            7199,
            7890,
            10307,
            8032,
            9740,
            13944,
            11423,
            12207,
            8161,
            9537,
            9536,
            6560,
            15562,
            12353,
            9270,
            7492,
            8933,
            5055
           ]
          }
         ],
         "name": "2016"
        },
        {
         "data": [
          {
           "coloraxis": "coloraxis",
           "customdata": [
            [
             10650
            ],
            [
             7440
            ],
            [
             11210
            ],
            [
             8550
            ],
            [
             9800
            ],
            [
             10810
            ],
            [
             12180
            ],
            [
             12180
            ],
            [
             8060
            ],
            [
             6360
            ],
            [
             8580
            ],
            [
             10610
            ],
            [
             7250
            ],
            [
             13700
            ],
            [
             9380
            ],
            [
             8760
            ],
            [
             8880
            ],
            [
             10320
            ],
            [
             9310
            ],
            [
             9900
            ],
            [
             9690
            ],
            [
             12790
            ],
            [
             13060
            ],
            [
             11340
            ],
            [
             7950
            ],
            [
             8500
            ],
            [
             6910
            ],
            [
             8290
            ],
            [
             7330
            ],
            [
             16080
            ],
            [
             13860
            ],
            [
             6920
            ],
            [
             7930
            ],
            [
             7380
            ],
            [
             8190
            ],
            [
             10460
            ],
            [
             8490
            ],
            [
             10320
            ],
            [
             14510
            ],
            [
             12240
            ],
            [
             12600
            ],
            [
             8440
            ],
            [
             9800
            ],
            [
             9880
            ],
            [
             6780
            ],
            [
             16030
            ],
            [
             12820
            ],
            [
             9490
            ],
            [
             7910
            ],
            [
             8920
            ],
            [
             5220
            ]
           ],
           "geo": "geo",
           "hovertemplate": "<b>%{hovertext}</b><br><br>Year=2017<br>State_Code=%{location}<br>Tuition=%{z}<extra></extra>",
           "hovertext": [
            "Alabama",
            "Alaska",
            "Arizona",
            "Arkansas",
            "California",
            "Colorado",
            "Connecticut",
            "Delaware",
            "District of Columbia",
            "Florida",
            "Georgia",
            "Hawaii",
            "Idaho",
            "Illinois",
            "Indiana",
            "Iowa",
            "Kansas",
            "Kentucky",
            "Louisiana",
            "Maine",
            "Maryland",
            "Massachusetts",
            "Michigan",
            "Minnesota",
            "Mississippi",
            "Missouri",
            "Montana",
            "Nebraska",
            "Nevada",
            "New Hampshire",
            "New Jersey",
            "New Mexico",
            "New York",
            "North Carolina",
            "North Dakota",
            "Ohio",
            "Oklahoma",
            "Oregon",
            "Pennsylvania",
            "Rhode Island",
            "South Carolina",
            "South Dakota",
            "Tennessee",
            "Texas",
            "Utah",
            "Vermont",
            "Virginia",
            "Washington",
            "West Virginia",
            "Wisconsin",
            "Wyoming"
           ],
           "locationmode": "USA-states",
           "locations": [
            "AL",
            "AK",
            "AZ",
            "AR",
            "CA",
            "CO",
            "CT",
            "DE",
            "DC",
            "FL",
            "GA",
            "HI",
            "ID",
            "IL",
            "IN",
            "IA",
            "KS",
            "KY",
            "LA",
            "ME",
            "MD",
            "MA",
            "MI",
            "MN",
            "MS",
            "MO",
            "MT",
            "NE",
            "NV",
            "NH",
            "NJ",
            "NM",
            "NY",
            "NC",
            "ND",
            "OH",
            "OK",
            "OR",
            "PA",
            "RI",
            "SC",
            "SD",
            "TN",
            "TX",
            "UT",
            "VT",
            "VA",
            "WA",
            "WV",
            "WI",
            "WY"
           ],
           "name": "",
           "type": "choropleth",
           "z": [
            10650,
            7440,
            11210,
            8550,
            9800,
            10810,
            12180,
            12180,
            8060,
            6360,
            8580,
            10610,
            7250,
            13700,
            9380,
            8760,
            8880,
            10320,
            9310,
            9900,
            9690,
            12790,
            13060,
            11340,
            7950,
            8500,
            6910,
            8290,
            7330,
            16080,
            13860,
            6920,
            7930,
            7380,
            8190,
            10460,
            8490,
            10320,
            14510,
            12240,
            12600,
            8440,
            9800,
            9880,
            6780,
            16030,
            12820,
            9490,
            7910,
            8920,
            5220
           ]
          }
         ],
         "name": "2017"
        },
        {
         "data": [
          {
           "coloraxis": "coloraxis",
           "customdata": [
            [
             10777
            ],
            [
             7821
            ],
            [
             11545
            ],
            [
             8701
            ],
            [
             9875
            ],
            [
             11157
            ],
            [
             12744
            ],
            [
             12726
            ],
            [
             8252
            ],
            [
             6353
            ],
            [
             8544
            ],
            [
             10801
            ],
            [
             7591
            ],
            [
             14000
            ],
            [
             9487
            ],
            [
             9081
            ],
            [
             9091
            ],
            [
             10715
            ],
            [
             9506
            ],
            [
             10211
            ],
            [
             9907
            ],
            [
             13218
            ],
            [
             13446
            ],
            [
             11531
            ],
            [
             8416
            ],
            [
             8650
            ],
            [
             7102
            ],
            [
             8527
            ],
            [
             7667
            ],
            [
             16559
            ],
            [
             14184
            ],
            [
             7127
            ],
            [
             8159
            ],
            [
             7228
            ],
            [
             8669
            ],
            [
             10805
            ],
            [
             8800
            ],
            [
             10608
            ],
            [
             14814
            ],
            [
             12566
            ],
            [
             12966
            ],
            [
             8684
            ],
            [
             9977
            ],
            [
             10163
            ],
            [
             6988
            ],
            [
             16998
            ],
            [
             13491
            ],
            [
             9844
            ],
            [
             8295
            ],
            [
             9014
            ],
            [
             5400
            ]
           ],
           "geo": "geo",
           "hovertemplate": "<b>%{hovertext}</b><br><br>Year=2018<br>State_Code=%{location}<br>Tuition=%{z}<extra></extra>",
           "hovertext": [
            "Alabama",
            "Alaska",
            "Arizona",
            "Arkansas",
            "California",
            "Colorado",
            "Connecticut",
            "Delaware",
            "District of Columbia",
            "Florida",
            "Georgia",
            "Hawaii",
            "Idaho",
            "Illinois",
            "Indiana",
            "Iowa",
            "Kansas",
            "Kentucky",
            "Louisiana",
            "Maine",
            "Maryland",
            "Massachusetts",
            "Michigan",
            "Minnesota",
            "Mississippi",
            "Missouri",
            "Montana",
            "Nebraska",
            "Nevada",
            "New Hampshire",
            "New Jersey",
            "New Mexico",
            "New York",
            "North Carolina",
            "North Dakota",
            "Ohio",
            "Oklahoma",
            "Oregon",
            "Pennsylvania",
            "Rhode Island",
            "South Carolina",
            "South Dakota",
            "Tennessee",
            "Texas",
            "Utah",
            "Vermont",
            "Virginia",
            "Washington",
            "West Virginia",
            "Wisconsin",
            "Wyoming"
           ],
           "locationmode": "USA-states",
           "locations": [
            "AL",
            "AK",
            "AZ",
            "AR",
            "CA",
            "CO",
            "CT",
            "DE",
            "DC",
            "FL",
            "GA",
            "HI",
            "ID",
            "IL",
            "IN",
            "IA",
            "KS",
            "KY",
            "LA",
            "ME",
            "MD",
            "MA",
            "MI",
            "MN",
            "MS",
            "MO",
            "MT",
            "NE",
            "NV",
            "NH",
            "NJ",
            "NM",
            "NY",
            "NC",
            "ND",
            "OH",
            "OK",
            "OR",
            "PA",
            "RI",
            "SC",
            "SD",
            "TN",
            "TX",
            "UT",
            "VT",
            "VA",
            "WA",
            "WV",
            "WI",
            "WY"
           ],
           "name": "",
           "type": "choropleth",
           "z": [
            10777,
            7821,
            11545,
            8701,
            9875,
            11157,
            12744,
            12726,
            8252,
            6353,
            8544,
            10801,
            7591,
            14000,
            9487,
            9081,
            9091,
            10715,
            9506,
            10211,
            9907,
            13218,
            13446,
            11531,
            8416,
            8650,
            7102,
            8527,
            7667,
            16559,
            14184,
            7127,
            8159,
            7228,
            8669,
            10805,
            8800,
            10608,
            14814,
            12566,
            12966,
            8684,
            9977,
            10163,
            6988,
            16998,
            13491,
            9844,
            8295,
            9014,
            5400
           ]
          }
         ],
         "name": "2018"
        },
        {
         "data": [
          {
           "coloraxis": "coloraxis",
           "customdata": [
            [
             10922
            ],
            [
             8233
            ],
            [
             11879
            ],
            [
             9036
            ],
            [
             9854
            ],
            [
             11408
            ],
            [
             13644
            ],
            [
             13275
            ],
            [
             8444
            ],
            [
             6365
            ],
            [
             8790
            ],
            [
             10981
            ],
            [
             7999
            ],
            [
             14197
            ],
            [
             9691
            ],
            [
             9369
            ],
            [
             9211
            ],
            [
             10932
            ],
            [
             9840
            ],
            [
             10519
            ],
            [
             10132
            ],
            [
             13697
            ],
            [
             13785
            ],
            [
             11882
            ],
            [
             8604
            ],
            [
             9013
            ],
            [
             7208
            ],
            [
             8745
            ],
            [
             7931
            ],
            [
             16907
            ],
            [
             14550
            ],
            [
             7431
            ],
            [
             8465
            ],
            [
             7265
            ],
            [
             9271
            ],
            [
             11335
            ],
            [
             8933
            ],
            [
             11210
            ],
            [
             15002
            ],
            [
             13119
            ],
            [
             13062
            ],
            [
             8985
            ],
            [
             10290
            ],
            [
             10490
            ],
            [
             7156
            ],
            [
             17186
            ],
            [
             13640
            ],
            [
             10114
            ],
            [
             8479
            ],
            [
             9083
            ],
            [
             5581
            ]
           ],
           "geo": "geo",
           "hovertemplate": "<b>%{hovertext}</b><br><br>Year=2019<br>State_Code=%{location}<br>Tuition=%{z}<extra></extra>",
           "hovertext": [
            "Alabama",
            "Alaska",
            "Arizona",
            "Arkansas",
            "California",
            "Colorado",
            "Connecticut",
            "Delaware",
            "District of Columbia",
            "Florida",
            "Georgia",
            "Hawaii",
            "Idaho",
            "Illinois",
            "Indiana",
            "Iowa",
            "Kansas",
            "Kentucky",
            "Louisiana",
            "Maine",
            "Maryland",
            "Massachusetts",
            "Michigan",
            "Minnesota",
            "Mississippi",
            "Missouri",
            "Montana",
            "Nebraska",
            "Nevada",
            "New Hampshire",
            "New Jersey",
            "New Mexico",
            "New York",
            "North Carolina",
            "North Dakota",
            "Ohio",
            "Oklahoma",
            "Oregon",
            "Pennsylvania",
            "Rhode Island",
            "South Carolina",
            "South Dakota",
            "Tennessee",
            "Texas",
            "Utah",
            "Vermont",
            "Virginia",
            "Washington",
            "West Virginia",
            "Wisconsin",
            "Wyoming"
           ],
           "locationmode": "USA-states",
           "locations": [
            "AL",
            "AK",
            "AZ",
            "AR",
            "CA",
            "CO",
            "CT",
            "DE",
            "DC",
            "FL",
            "GA",
            "HI",
            "ID",
            "IL",
            "IN",
            "IA",
            "KS",
            "KY",
            "LA",
            "ME",
            "MD",
            "MA",
            "MI",
            "MN",
            "MS",
            "MO",
            "MT",
            "NE",
            "NV",
            "NH",
            "NJ",
            "NM",
            "NY",
            "NC",
            "ND",
            "OH",
            "OK",
            "OR",
            "PA",
            "RI",
            "SC",
            "SD",
            "TN",
            "TX",
            "UT",
            "VT",
            "VA",
            "WA",
            "WV",
            "WI",
            "WY"
           ],
           "name": "",
           "type": "choropleth",
           "z": [
            10922,
            8233,
            11879,
            9036,
            9854,
            11408,
            13644,
            13275,
            8444,
            6365,
            8790,
            10981,
            7999,
            14197,
            9691,
            9369,
            9211,
            10932,
            9840,
            10519,
            10132,
            13697,
            13785,
            11882,
            8604,
            9013,
            7208,
            8745,
            7931,
            16907,
            14550,
            7431,
            8465,
            7265,
            9271,
            11335,
            8933,
            11210,
            15002,
            13119,
            13062,
            8985,
            10290,
            10490,
            7156,
            17186,
            13640,
            10114,
            8479,
            9083,
            5581
           ]
          }
         ],
         "name": "2019"
        },
        {
         "data": [
          {
           "coloraxis": "coloraxis",
           "customdata": [
            [
             10996
            ],
            [
             8610
            ],
            [
             11811
            ],
            [
             9078
            ],
            [
             9924
            ],
            [
             11483
            ],
            [
             14221
            ],
            [
             13593
            ],
            [
             8636
            ],
            [
             6365
            ],
            [
             8865
            ],
            [
             10999
            ],
            [
             7992
            ],
            [
             14450
            ],
            [
             9812
            ],
            [
             9374
            ],
            [
             9277
            ],
            [
             11010
            ],
            [
             9930
            ],
            [
             10800
            ],
            [
             10136
            ],
            [
             13982
            ],
            [
             13975
            ],
            [
             12027
            ],
            [
             8665
            ],
            [
             9332
            ],
            [
             7204
            ],
            [
             9078
            ],
            [
             8269
            ],
            [
             16976
            ],
            [
             14414
            ],
            [
             8106
            ],
            [
             8477
            ],
            [
             7264
            ],
            [
             9650
            ],
            [
             11699
            ],
            [
             9012
            ],
            [
             11907
            ],
            [
             15029
            ],
            [
             13741
            ],
            [
             13104
            ],
            [
             9129
            ],
            [
             10450
            ],
            [
             10827
            ],
            [
             7221
            ],
            [
             17722
            ],
            [
             13868
            ],
            [
             10663
            ],
            [
             8555
            ],
            [
             9096
            ],
            [
             5792
            ]
           ],
           "geo": "geo",
           "hovertemplate": "<b>%{hovertext}</b><br><br>Year=2020<br>State_Code=%{location}<br>Tuition=%{z}<extra></extra>",
           "hovertext": [
            "Alabama",
            "Alaska",
            "Arizona",
            "Arkansas",
            "California",
            "Colorado",
            "Connecticut",
            "Delaware",
            "District of Columbia",
            "Florida",
            "Georgia",
            "Hawaii",
            "Idaho",
            "Illinois",
            "Indiana",
            "Iowa",
            "Kansas",
            "Kentucky",
            "Louisiana",
            "Maine",
            "Maryland",
            "Massachusetts",
            "Michigan",
            "Minnesota",
            "Mississippi",
            "Missouri",
            "Montana",
            "Nebraska",
            "Nevada",
            "New Hampshire",
            "New Jersey",
            "New Mexico",
            "New York",
            "North Carolina",
            "North Dakota",
            "Ohio",
            "Oklahoma",
            "Oregon",
            "Pennsylvania",
            "Rhode Island",
            "South Carolina",
            "South Dakota",
            "Tennessee",
            "Texas",
            "Utah",
            "Vermont",
            "Virginia",
            "Washington",
            "West Virginia",
            "Wisconsin",
            "Wyoming"
           ],
           "locationmode": "USA-states",
           "locations": [
            "AL",
            "AK",
            "AZ",
            "AR",
            "CA",
            "CO",
            "CT",
            "DE",
            "DC",
            "FL",
            "GA",
            "HI",
            "ID",
            "IL",
            "IN",
            "IA",
            "KS",
            "KY",
            "LA",
            "ME",
            "MD",
            "MA",
            "MI",
            "MN",
            "MS",
            "MO",
            "MT",
            "NE",
            "NV",
            "NH",
            "NJ",
            "NM",
            "NY",
            "NC",
            "ND",
            "OH",
            "OK",
            "OR",
            "PA",
            "RI",
            "SC",
            "SD",
            "TN",
            "TX",
            "UT",
            "VT",
            "VA",
            "WA",
            "WV",
            "WI",
            "WY"
           ],
           "name": "",
           "type": "choropleth",
           "z": [
            10996,
            8610,
            11811,
            9078,
            9924,
            11483,
            14221,
            13593,
            8636,
            6365,
            8865,
            10999,
            7992,
            14450,
            9812,
            9374,
            9277,
            11010,
            9930,
            10800,
            10136,
            13982,
            13975,
            12027,
            8665,
            9332,
            7204,
            9078,
            8269,
            16976,
            14414,
            8106,
            8477,
            7264,
            9650,
            11699,
            9012,
            11907,
            15029,
            13741,
            13104,
            9129,
            10450,
            10827,
            7221,
            17722,
            13868,
            10663,
            8555,
            9096,
            5792
           ]
          }
         ],
         "name": "2020"
        },
        {
         "data": [
          {
           "coloraxis": "coloraxis",
           "customdata": [
            [
             11338
            ],
            [
             8815
            ],
            [
             11820
            ],
            [
             9250
            ],
            [
             9943
            ],
            [
             11769
            ],
            [
             14914
            ],
            [
             13901
            ],
            [
             8636
            ],
            [
             6366
            ],
            [
             8885
            ],
            [
             10999
            ],
            [
             8000
            ],
            [
             14667
            ],
            [
             9937
            ],
            [
             9668
            ],
            [
             9363
            ],
            [
             11169
            ],
            [
             10042
            ],
            [
             11031
            ],
            [
             10317
            ],
            [
             13986
            ],
            [
             14339
            ],
            [
             12450
            ],
            [
             8872
            ],
            [
             9803
            ],
            [
             7265
            ],
            [
             9093
            ],
            [
             8383
            ],
            [
             16991
            ],
            [
             14963
            ],
            [
             7975
            ],
            [
             8556
            ],
            [
             7378
            ],
            [
             10089
            ],
            [
             12052
            ],
            [
             9233
            ],
            [
             12251
            ],
            [
             15312
            ],
            [
             14100
            ],
            [
             13119
            ],
            [
             9295
            ],
            [
             10570
            ],
            [
             11095
            ],
            [
             7387
            ],
            [
             17747
            ],
            [
             14121
            ],
            [
             10902
            ],
            [
             8733
            ],
            [
             9162
            ],
            [
             6097
            ]
           ],
           "geo": "geo",
           "hovertemplate": "<b>%{hovertext}</b><br><br>Year=2021<br>State_Code=%{location}<br>Tuition=%{z}<extra></extra>",
           "hovertext": [
            "Alabama",
            "Alaska",
            "Arizona",
            "Arkansas",
            "California",
            "Colorado",
            "Connecticut",
            "Delaware",
            "District of Columbia",
            "Florida",
            "Georgia",
            "Hawaii",
            "Idaho",
            "Illinois",
            "Indiana",
            "Iowa",
            "Kansas",
            "Kentucky",
            "Louisiana",
            "Maine",
            "Maryland",
            "Massachusetts",
            "Michigan",
            "Minnesota",
            "Mississippi",
            "Missouri",
            "Montana",
            "Nebraska",
            "Nevada",
            "New Hampshire",
            "New Jersey",
            "New Mexico",
            "New York",
            "North Carolina",
            "North Dakota",
            "Ohio",
            "Oklahoma",
            "Oregon",
            "Pennsylvania",
            "Rhode Island",
            "South Carolina",
            "South Dakota",
            "Tennessee",
            "Texas",
            "Utah",
            "Vermont",
            "Virginia",
            "Washington",
            "West Virginia",
            "Wisconsin",
            "Wyoming"
           ],
           "locationmode": "USA-states",
           "locations": [
            "AL",
            "AK",
            "AZ",
            "AR",
            "CA",
            "CO",
            "CT",
            "DE",
            "DC",
            "FL",
            "GA",
            "HI",
            "ID",
            "IL",
            "IN",
            "IA",
            "KS",
            "KY",
            "LA",
            "ME",
            "MD",
            "MA",
            "MI",
            "MN",
            "MS",
            "MO",
            "MT",
            "NE",
            "NV",
            "NH",
            "NJ",
            "NM",
            "NY",
            "NC",
            "ND",
            "OH",
            "OK",
            "OR",
            "PA",
            "RI",
            "SC",
            "SD",
            "TN",
            "TX",
            "UT",
            "VT",
            "VA",
            "WA",
            "WV",
            "WI",
            "WY"
           ],
           "name": "",
           "type": "choropleth",
           "z": [
            11338,
            8815,
            11820,
            9250,
            9943,
            11769,
            14914,
            13901,
            8636,
            6366,
            8885,
            10999,
            8000,
            14667,
            9937,
            9668,
            9363,
            11169,
            10042,
            11031,
            10317,
            13986,
            14339,
            12450,
            8872,
            9803,
            7265,
            9093,
            8383,
            16991,
            14963,
            7975,
            8556,
            7378,
            10089,
            12052,
            9233,
            12251,
            15312,
            14100,
            13119,
            9295,
            10570,
            11095,
            7387,
            17747,
            14121,
            10902,
            8733,
            9162,
            6097
           ]
          }
         ],
         "name": "2021"
        },
        {
         "data": [
          {
           "coloraxis": "coloraxis",
           "customdata": [
            [
             11683
            ],
            [
             9024
            ],
            [
             12184
            ],
            [
             9478
            ],
            [
             10353
            ],
            [
             12185
            ],
            [
             15780
            ],
            [
             14190
            ],
            [
             8636
            ],
            [
             6364
            ],
            [
             8291
            ],
            [
             11102
            ],
            [
             8186
            ],
            [
             15012
            ],
            [
             10095
            ],
            [
             10115
            ],
            [
             9456
            ],
            [
             11410
            ],
            [
             10233
            ],
            [
             11238
            ],
            [
             10573
            ],
            [
             14488
            ],
            [
             14864
            ],
            [
             13020
            ],
            [
             9109
            ],
            [
             10294
            ],
            [
             7467
            ],
            [
             9018
            ],
            [
             8600
            ],
            [
             17094
            ],
            [
             15479
            ],
            [
             8955
            ],
            [
             8582
            ],
            [
             7392
            ],
            [
             10375
            ],
            [
             12609
            ],
            [
             9444
            ],
            [
             12962
            ],
            [
             15841
            ],
            [
             14696
            ],
            [
             13130
            ],
            [
             9124
            ],
            [
             10627
            ],
            [
             11136
            ],
            [
             7720
            ],
            [
             17772
            ],
            [
             14620
            ],
            [
             11187
            ],
            [
             8954
            ],
            [
             9284
            ],
            [
             6441
            ]
           ],
           "geo": "geo",
           "hovertemplate": "<b>%{hovertext}</b><br><br>Year=2022<br>State_Code=%{location}<br>Tuition=%{z}<extra></extra>",
           "hovertext": [
            "Alabama",
            "Alaska",
            "Arizona",
            "Arkansas",
            "California",
            "Colorado",
            "Connecticut",
            "Delaware",
            "District of Columbia",
            "Florida",
            "Georgia",
            "Hawaii",
            "Idaho",
            "Illinois",
            "Indiana",
            "Iowa",
            "Kansas",
            "Kentucky",
            "Louisiana",
            "Maine",
            "Maryland",
            "Massachusetts",
            "Michigan",
            "Minnesota",
            "Mississippi",
            "Missouri",
            "Montana",
            "Nebraska",
            "Nevada",
            "New Hampshire",
            "New Jersey",
            "New Mexico",
            "New York",
            "North Carolina",
            "North Dakota",
            "Ohio",
            "Oklahoma",
            "Oregon",
            "Pennsylvania",
            "Rhode Island",
            "South Carolina",
            "South Dakota",
            "Tennessee",
            "Texas",
            "Utah",
            "Vermont",
            "Virginia",
            "Washington",
            "West Virginia",
            "Wisconsin",
            "Wyoming"
           ],
           "locationmode": "USA-states",
           "locations": [
            "AL",
            "AK",
            "AZ",
            "AR",
            "CA",
            "CO",
            "CT",
            "DE",
            "DC",
            "FL",
            "GA",
            "HI",
            "ID",
            "IL",
            "IN",
            "IA",
            "KS",
            "KY",
            "LA",
            "ME",
            "MD",
            "MA",
            "MI",
            "MN",
            "MS",
            "MO",
            "MT",
            "NE",
            "NV",
            "NH",
            "NJ",
            "NM",
            "NY",
            "NC",
            "ND",
            "OH",
            "OK",
            "OR",
            "PA",
            "RI",
            "SC",
            "SD",
            "TN",
            "TX",
            "UT",
            "VT",
            "VA",
            "WA",
            "WV",
            "WI",
            "WY"
           ],
           "name": "",
           "type": "choropleth",
           "z": [
            11683,
            9024,
            12184,
            9478,
            10353,
            12185,
            15780,
            14190,
            8636,
            6364,
            8291,
            11102,
            8186,
            15012,
            10095,
            10115,
            9456,
            11410,
            10233,
            11238,
            10573,
            14488,
            14864,
            13020,
            9109,
            10294,
            7467,
            9018,
            8600,
            17094,
            15479,
            8955,
            8582,
            7392,
            10375,
            12609,
            9444,
            12962,
            15841,
            14696,
            13130,
            9124,
            10627,
            11136,
            7720,
            17772,
            14620,
            11187,
            8954,
            9284,
            6441
           ]
          }
         ],
         "name": "2022"
        },
        {
         "data": [
          {
           "coloraxis": "coloraxis",
           "customdata": [
            [
             11890
            ],
            [
             9163
            ],
            [
             12583
            ],
            [
             9734
            ],
            [
             10641
            ],
            [
             12703
            ],
            [
             16403
            ],
            [
             14775
            ],
            [
             8636
            ],
            [
             6364
            ],
            [
             8306
            ],
            [
             11102
            ],
            [
             8598
            ],
            [
             15362
            ],
            [
             10371
            ],
            [
             10567
            ],
            [
             9915
            ],
            [
             11819
            ],
            [
             10238
            ],
            [
             11754
            ],
            [
             10852
            ],
            [
             14839
            ],
            [
             15425
            ],
            [
             13377
            ],
            [
             9389
            ],
            [
             11547
            ],
            [
             7863
            ],
            [
             9352
            ],
            [
             8800
            ],
            [
             17171
            ],
            [
             16261
            ],
            [
             9088
            ],
            [
             8579
            ],
            [
             7437
            ],
            [
             10419
            ],
            [
             13016
            ],
            [
             9649
            ],
            [
             13490
            ],
            [
             16150
            ],
            [
             15102
            ],
            [
             13132
            ],
            [
             9121
            ],
            [
             10889
            ],
            [
             11187
            ],
            [
             7720
            ],
            [
             17183
            ],
            [
             15162
            ],
            [
             11506
            ],
            [
             9223
            ],
            [
             9619
            ],
            [
             6698
            ]
           ],
           "geo": "geo",
           "hovertemplate": "<b>%{hovertext}</b><br><br>Year=2023<br>State_Code=%{location}<br>Tuition=%{z}<extra></extra>",
           "hovertext": [
            "Alabama",
            "Alaska",
            "Arizona",
            "Arkansas",
            "California",
            "Colorado",
            "Connecticut",
            "Delaware",
            "District of Columbia",
            "Florida",
            "Georgia",
            "Hawaii",
            "Idaho",
            "Illinois",
            "Indiana",
            "Iowa",
            "Kansas",
            "Kentucky",
            "Louisiana",
            "Maine",
            "Maryland",
            "Massachusetts",
            "Michigan",
            "Minnesota",
            "Mississippi",
            "Missouri",
            "Montana",
            "Nebraska",
            "Nevada",
            "New Hampshire",
            "New Jersey",
            "New Mexico",
            "New York",
            "North Carolina",
            "North Dakota",
            "Ohio",
            "Oklahoma",
            "Oregon",
            "Pennsylvania",
            "Rhode Island",
            "South Carolina",
            "South Dakota",
            "Tennessee",
            "Texas",
            "Utah",
            "Vermont",
            "Virginia",
            "Washington",
            "West Virginia",
            "Wisconsin",
            "Wyoming"
           ],
           "locationmode": "USA-states",
           "locations": [
            "AL",
            "AK",
            "AZ",
            "AR",
            "CA",
            "CO",
            "CT",
            "DE",
            "DC",
            "FL",
            "GA",
            "HI",
            "ID",
            "IL",
            "IN",
            "IA",
            "KS",
            "KY",
            "LA",
            "ME",
            "MD",
            "MA",
            "MI",
            "MN",
            "MS",
            "MO",
            "MT",
            "NE",
            "NV",
            "NH",
            "NJ",
            "NM",
            "NY",
            "NC",
            "ND",
            "OH",
            "OK",
            "OR",
            "PA",
            "RI",
            "SC",
            "SD",
            "TN",
            "TX",
            "UT",
            "VT",
            "VA",
            "WA",
            "WV",
            "WI",
            "WY"
           ],
           "name": "",
           "type": "choropleth",
           "z": [
            11890,
            9163,
            12583,
            9734,
            10641,
            12703,
            16403,
            14775,
            8636,
            6364,
            8306,
            11102,
            8598,
            15362,
            10371,
            10567,
            9915,
            11819,
            10238,
            11754,
            10852,
            14839,
            15425,
            13377,
            9389,
            11547,
            7863,
            9352,
            8800,
            17171,
            16261,
            9088,
            8579,
            7437,
            10419,
            13016,
            9649,
            13490,
            16150,
            15102,
            13132,
            9121,
            10889,
            11187,
            7720,
            17183,
            15162,
            11506,
            9223,
            9619,
            6698
           ]
          }
         ],
         "name": "2023"
        }
       ],
       "layout": {
        "coloraxis": {
         "cmax": 17772,
         "cmin": 2520,
         "colorbar": {
          "title": {
           "text": "Tuition"
          }
         },
         "colorscale": [
          [
           0,
           "rgb(255,255,204)"
          ],
          [
           0.125,
           "rgb(255,237,160)"
          ],
          [
           0.25,
           "rgb(254,217,118)"
          ],
          [
           0.375,
           "rgb(254,178,76)"
          ],
          [
           0.5,
           "rgb(253,141,60)"
          ],
          [
           0.625,
           "rgb(252,78,42)"
          ],
          [
           0.75,
           "rgb(227,26,28)"
          ],
          [
           0.875,
           "rgb(189,0,38)"
          ],
          [
           1,
           "rgb(128,0,38)"
          ]
         ]
        },
        "geo": {
         "center": {},
         "domain": {
          "x": [
           0,
           1
          ],
          "y": [
           0,
           1
          ]
         },
         "oceancolor": "LightBlue",
         "projection": {
          "type": "albers usa"
         },
         "showcoastlines": false,
         "showframe": false,
         "showocean": true
        },
        "height": 600,
        "legend": {
         "tracegroupgap": 0
        },
        "sliders": [
         {
          "active": 0,
          "currentvalue": {
           "prefix": "Year="
          },
          "len": 0.9,
          "pad": {
           "b": 10,
           "t": 60
          },
          "steps": [
           {
            "args": [
             [
              "2004"
             ],
             {
              "frame": {
               "duration": 0,
               "redraw": true
              },
              "fromcurrent": true,
              "mode": "immediate",
              "transition": {
               "duration": 0,
               "easing": "linear"
              }
             }
            ],
            "label": "2004",
            "method": "animate"
           },
           {
            "args": [
             [
              "2005"
             ],
             {
              "frame": {
               "duration": 0,
               "redraw": true
              },
              "fromcurrent": true,
              "mode": "immediate",
              "transition": {
               "duration": 0,
               "easing": "linear"
              }
             }
            ],
            "label": "2005",
            "method": "animate"
           },
           {
            "args": [
             [
              "2006"
             ],
             {
              "frame": {
               "duration": 0,
               "redraw": true
              },
              "fromcurrent": true,
              "mode": "immediate",
              "transition": {
               "duration": 0,
               "easing": "linear"
              }
             }
            ],
            "label": "2006",
            "method": "animate"
           },
           {
            "args": [
             [
              "2007"
             ],
             {
              "frame": {
               "duration": 0,
               "redraw": true
              },
              "fromcurrent": true,
              "mode": "immediate",
              "transition": {
               "duration": 0,
               "easing": "linear"
              }
             }
            ],
            "label": "2007",
            "method": "animate"
           },
           {
            "args": [
             [
              "2008"
             ],
             {
              "frame": {
               "duration": 0,
               "redraw": true
              },
              "fromcurrent": true,
              "mode": "immediate",
              "transition": {
               "duration": 0,
               "easing": "linear"
              }
             }
            ],
            "label": "2008",
            "method": "animate"
           },
           {
            "args": [
             [
              "2009"
             ],
             {
              "frame": {
               "duration": 0,
               "redraw": true
              },
              "fromcurrent": true,
              "mode": "immediate",
              "transition": {
               "duration": 0,
               "easing": "linear"
              }
             }
            ],
            "label": "2009",
            "method": "animate"
           },
           {
            "args": [
             [
              "2010"
             ],
             {
              "frame": {
               "duration": 0,
               "redraw": true
              },
              "fromcurrent": true,
              "mode": "immediate",
              "transition": {
               "duration": 0,
               "easing": "linear"
              }
             }
            ],
            "label": "2010",
            "method": "animate"
           },
           {
            "args": [
             [
              "2011"
             ],
             {
              "frame": {
               "duration": 0,
               "redraw": true
              },
              "fromcurrent": true,
              "mode": "immediate",
              "transition": {
               "duration": 0,
               "easing": "linear"
              }
             }
            ],
            "label": "2011",
            "method": "animate"
           },
           {
            "args": [
             [
              "2012"
             ],
             {
              "frame": {
               "duration": 0,
               "redraw": true
              },
              "fromcurrent": true,
              "mode": "immediate",
              "transition": {
               "duration": 0,
               "easing": "linear"
              }
             }
            ],
            "label": "2012",
            "method": "animate"
           },
           {
            "args": [
             [
              "2013"
             ],
             {
              "frame": {
               "duration": 0,
               "redraw": true
              },
              "fromcurrent": true,
              "mode": "immediate",
              "transition": {
               "duration": 0,
               "easing": "linear"
              }
             }
            ],
            "label": "2013",
            "method": "animate"
           },
           {
            "args": [
             [
              "2014"
             ],
             {
              "frame": {
               "duration": 0,
               "redraw": true
              },
              "fromcurrent": true,
              "mode": "immediate",
              "transition": {
               "duration": 0,
               "easing": "linear"
              }
             }
            ],
            "label": "2014",
            "method": "animate"
           },
           {
            "args": [
             [
              "2015"
             ],
             {
              "frame": {
               "duration": 0,
               "redraw": true
              },
              "fromcurrent": true,
              "mode": "immediate",
              "transition": {
               "duration": 0,
               "easing": "linear"
              }
             }
            ],
            "label": "2015",
            "method": "animate"
           },
           {
            "args": [
             [
              "2016"
             ],
             {
              "frame": {
               "duration": 0,
               "redraw": true
              },
              "fromcurrent": true,
              "mode": "immediate",
              "transition": {
               "duration": 0,
               "easing": "linear"
              }
             }
            ],
            "label": "2016",
            "method": "animate"
           },
           {
            "args": [
             [
              "2017"
             ],
             {
              "frame": {
               "duration": 0,
               "redraw": true
              },
              "fromcurrent": true,
              "mode": "immediate",
              "transition": {
               "duration": 0,
               "easing": "linear"
              }
             }
            ],
            "label": "2017",
            "method": "animate"
           },
           {
            "args": [
             [
              "2018"
             ],
             {
              "frame": {
               "duration": 0,
               "redraw": true
              },
              "fromcurrent": true,
              "mode": "immediate",
              "transition": {
               "duration": 0,
               "easing": "linear"
              }
             }
            ],
            "label": "2018",
            "method": "animate"
           },
           {
            "args": [
             [
              "2019"
             ],
             {
              "frame": {
               "duration": 0,
               "redraw": true
              },
              "fromcurrent": true,
              "mode": "immediate",
              "transition": {
               "duration": 0,
               "easing": "linear"
              }
             }
            ],
            "label": "2019",
            "method": "animate"
           },
           {
            "args": [
             [
              "2020"
             ],
             {
              "frame": {
               "duration": 0,
               "redraw": true
              },
              "fromcurrent": true,
              "mode": "immediate",
              "transition": {
               "duration": 0,
               "easing": "linear"
              }
             }
            ],
            "label": "2020",
            "method": "animate"
           },
           {
            "args": [
             [
              "2021"
             ],
             {
              "frame": {
               "duration": 0,
               "redraw": true
              },
              "fromcurrent": true,
              "mode": "immediate",
              "transition": {
               "duration": 0,
               "easing": "linear"
              }
             }
            ],
            "label": "2021",
            "method": "animate"
           },
           {
            "args": [
             [
              "2022"
             ],
             {
              "frame": {
               "duration": 0,
               "redraw": true
              },
              "fromcurrent": true,
              "mode": "immediate",
              "transition": {
               "duration": 0,
               "easing": "linear"
              }
             }
            ],
            "label": "2022",
            "method": "animate"
           },
           {
            "args": [
             [
              "2023"
             ],
             {
              "frame": {
               "duration": 0,
               "redraw": true
              },
              "fromcurrent": true,
              "mode": "immediate",
              "transition": {
               "duration": 0,
               "easing": "linear"
              }
             }
            ],
            "label": "2023",
            "method": "animate"
           }
          ],
          "x": 0.1,
          "xanchor": "left",
          "y": 0,
          "yanchor": "top"
         }
        ],
        "template": {
         "data": {
          "bar": [
           {
            "error_x": {
             "color": "#2a3f5f"
            },
            "error_y": {
             "color": "#2a3f5f"
            },
            "marker": {
             "line": {
              "color": "#E5ECF6",
              "width": 0.5
             },
             "pattern": {
              "fillmode": "overlay",
              "size": 10,
              "solidity": 0.2
             }
            },
            "type": "bar"
           }
          ],
          "barpolar": [
           {
            "marker": {
             "line": {
              "color": "#E5ECF6",
              "width": 0.5
             },
             "pattern": {
              "fillmode": "overlay",
              "size": 10,
              "solidity": 0.2
             }
            },
            "type": "barpolar"
           }
          ],
          "carpet": [
           {
            "aaxis": {
             "endlinecolor": "#2a3f5f",
             "gridcolor": "white",
             "linecolor": "white",
             "minorgridcolor": "white",
             "startlinecolor": "#2a3f5f"
            },
            "baxis": {
             "endlinecolor": "#2a3f5f",
             "gridcolor": "white",
             "linecolor": "white",
             "minorgridcolor": "white",
             "startlinecolor": "#2a3f5f"
            },
            "type": "carpet"
           }
          ],
          "choropleth": [
           {
            "colorbar": {
             "outlinewidth": 0,
             "ticks": ""
            },
            "type": "choropleth"
           }
          ],
          "contour": [
           {
            "colorbar": {
             "outlinewidth": 0,
             "ticks": ""
            },
            "colorscale": [
             [
              0,
              "#0d0887"
             ],
             [
              0.1111111111111111,
              "#46039f"
             ],
             [
              0.2222222222222222,
              "#7201a8"
             ],
             [
              0.3333333333333333,
              "#9c179e"
             ],
             [
              0.4444444444444444,
              "#bd3786"
             ],
             [
              0.5555555555555556,
              "#d8576b"
             ],
             [
              0.6666666666666666,
              "#ed7953"
             ],
             [
              0.7777777777777778,
              "#fb9f3a"
             ],
             [
              0.8888888888888888,
              "#fdca26"
             ],
             [
              1,
              "#f0f921"
             ]
            ],
            "type": "contour"
           }
          ],
          "contourcarpet": [
           {
            "colorbar": {
             "outlinewidth": 0,
             "ticks": ""
            },
            "type": "contourcarpet"
           }
          ],
          "heatmap": [
           {
            "colorbar": {
             "outlinewidth": 0,
             "ticks": ""
            },
            "colorscale": [
             [
              0,
              "#0d0887"
             ],
             [
              0.1111111111111111,
              "#46039f"
             ],
             [
              0.2222222222222222,
              "#7201a8"
             ],
             [
              0.3333333333333333,
              "#9c179e"
             ],
             [
              0.4444444444444444,
              "#bd3786"
             ],
             [
              0.5555555555555556,
              "#d8576b"
             ],
             [
              0.6666666666666666,
              "#ed7953"
             ],
             [
              0.7777777777777778,
              "#fb9f3a"
             ],
             [
              0.8888888888888888,
              "#fdca26"
             ],
             [
              1,
              "#f0f921"
             ]
            ],
            "type": "heatmap"
           }
          ],
          "heatmapgl": [
           {
            "colorbar": {
             "outlinewidth": 0,
             "ticks": ""
            },
            "colorscale": [
             [
              0,
              "#0d0887"
             ],
             [
              0.1111111111111111,
              "#46039f"
             ],
             [
              0.2222222222222222,
              "#7201a8"
             ],
             [
              0.3333333333333333,
              "#9c179e"
             ],
             [
              0.4444444444444444,
              "#bd3786"
             ],
             [
              0.5555555555555556,
              "#d8576b"
             ],
             [
              0.6666666666666666,
              "#ed7953"
             ],
             [
              0.7777777777777778,
              "#fb9f3a"
             ],
             [
              0.8888888888888888,
              "#fdca26"
             ],
             [
              1,
              "#f0f921"
             ]
            ],
            "type": "heatmapgl"
           }
          ],
          "histogram": [
           {
            "marker": {
             "pattern": {
              "fillmode": "overlay",
              "size": 10,
              "solidity": 0.2
             }
            },
            "type": "histogram"
           }
          ],
          "histogram2d": [
           {
            "colorbar": {
             "outlinewidth": 0,
             "ticks": ""
            },
            "colorscale": [
             [
              0,
              "#0d0887"
             ],
             [
              0.1111111111111111,
              "#46039f"
             ],
             [
              0.2222222222222222,
              "#7201a8"
             ],
             [
              0.3333333333333333,
              "#9c179e"
             ],
             [
              0.4444444444444444,
              "#bd3786"
             ],
             [
              0.5555555555555556,
              "#d8576b"
             ],
             [
              0.6666666666666666,
              "#ed7953"
             ],
             [
              0.7777777777777778,
              "#fb9f3a"
             ],
             [
              0.8888888888888888,
              "#fdca26"
             ],
             [
              1,
              "#f0f921"
             ]
            ],
            "type": "histogram2d"
           }
          ],
          "histogram2dcontour": [
           {
            "colorbar": {
             "outlinewidth": 0,
             "ticks": ""
            },
            "colorscale": [
             [
              0,
              "#0d0887"
             ],
             [
              0.1111111111111111,
              "#46039f"
             ],
             [
              0.2222222222222222,
              "#7201a8"
             ],
             [
              0.3333333333333333,
              "#9c179e"
             ],
             [
              0.4444444444444444,
              "#bd3786"
             ],
             [
              0.5555555555555556,
              "#d8576b"
             ],
             [
              0.6666666666666666,
              "#ed7953"
             ],
             [
              0.7777777777777778,
              "#fb9f3a"
             ],
             [
              0.8888888888888888,
              "#fdca26"
             ],
             [
              1,
              "#f0f921"
             ]
            ],
            "type": "histogram2dcontour"
           }
          ],
          "mesh3d": [
           {
            "colorbar": {
             "outlinewidth": 0,
             "ticks": ""
            },
            "type": "mesh3d"
           }
          ],
          "parcoords": [
           {
            "line": {
             "colorbar": {
              "outlinewidth": 0,
              "ticks": ""
             }
            },
            "type": "parcoords"
           }
          ],
          "pie": [
           {
            "automargin": true,
            "type": "pie"
           }
          ],
          "scatter": [
           {
            "fillpattern": {
             "fillmode": "overlay",
             "size": 10,
             "solidity": 0.2
            },
            "type": "scatter"
           }
          ],
          "scatter3d": [
           {
            "line": {
             "colorbar": {
              "outlinewidth": 0,
              "ticks": ""
             }
            },
            "marker": {
             "colorbar": {
              "outlinewidth": 0,
              "ticks": ""
             }
            },
            "type": "scatter3d"
           }
          ],
          "scattercarpet": [
           {
            "marker": {
             "colorbar": {
              "outlinewidth": 0,
              "ticks": ""
             }
            },
            "type": "scattercarpet"
           }
          ],
          "scattergeo": [
           {
            "marker": {
             "colorbar": {
              "outlinewidth": 0,
              "ticks": ""
             }
            },
            "type": "scattergeo"
           }
          ],
          "scattergl": [
           {
            "marker": {
             "colorbar": {
              "outlinewidth": 0,
              "ticks": ""
             }
            },
            "type": "scattergl"
           }
          ],
          "scattermapbox": [
           {
            "marker": {
             "colorbar": {
              "outlinewidth": 0,
              "ticks": ""
             }
            },
            "type": "scattermapbox"
           }
          ],
          "scatterpolar": [
           {
            "marker": {
             "colorbar": {
              "outlinewidth": 0,
              "ticks": ""
             }
            },
            "type": "scatterpolar"
           }
          ],
          "scatterpolargl": [
           {
            "marker": {
             "colorbar": {
              "outlinewidth": 0,
              "ticks": ""
             }
            },
            "type": "scatterpolargl"
           }
          ],
          "scatterternary": [
           {
            "marker": {
             "colorbar": {
              "outlinewidth": 0,
              "ticks": ""
             }
            },
            "type": "scatterternary"
           }
          ],
          "surface": [
           {
            "colorbar": {
             "outlinewidth": 0,
             "ticks": ""
            },
            "colorscale": [
             [
              0,
              "#0d0887"
             ],
             [
              0.1111111111111111,
              "#46039f"
             ],
             [
              0.2222222222222222,
              "#7201a8"
             ],
             [
              0.3333333333333333,
              "#9c179e"
             ],
             [
              0.4444444444444444,
              "#bd3786"
             ],
             [
              0.5555555555555556,
              "#d8576b"
             ],
             [
              0.6666666666666666,
              "#ed7953"
             ],
             [
              0.7777777777777778,
              "#fb9f3a"
             ],
             [
              0.8888888888888888,
              "#fdca26"
             ],
             [
              1,
              "#f0f921"
             ]
            ],
            "type": "surface"
           }
          ],
          "table": [
           {
            "cells": {
             "fill": {
              "color": "#EBF0F8"
             },
             "line": {
              "color": "white"
             }
            },
            "header": {
             "fill": {
              "color": "#C8D4E3"
             },
             "line": {
              "color": "white"
             }
            },
            "type": "table"
           }
          ]
         },
         "layout": {
          "annotationdefaults": {
           "arrowcolor": "#2a3f5f",
           "arrowhead": 0,
           "arrowwidth": 1
          },
          "autotypenumbers": "strict",
          "coloraxis": {
           "colorbar": {
            "outlinewidth": 0,
            "ticks": ""
           }
          },
          "colorscale": {
           "diverging": [
            [
             0,
             "#8e0152"
            ],
            [
             0.1,
             "#c51b7d"
            ],
            [
             0.2,
             "#de77ae"
            ],
            [
             0.3,
             "#f1b6da"
            ],
            [
             0.4,
             "#fde0ef"
            ],
            [
             0.5,
             "#f7f7f7"
            ],
            [
             0.6,
             "#e6f5d0"
            ],
            [
             0.7,
             "#b8e186"
            ],
            [
             0.8,
             "#7fbc41"
            ],
            [
             0.9,
             "#4d9221"
            ],
            [
             1,
             "#276419"
            ]
           ],
           "sequential": [
            [
             0,
             "#0d0887"
            ],
            [
             0.1111111111111111,
             "#46039f"
            ],
            [
             0.2222222222222222,
             "#7201a8"
            ],
            [
             0.3333333333333333,
             "#9c179e"
            ],
            [
             0.4444444444444444,
             "#bd3786"
            ],
            [
             0.5555555555555556,
             "#d8576b"
            ],
            [
             0.6666666666666666,
             "#ed7953"
            ],
            [
             0.7777777777777778,
             "#fb9f3a"
            ],
            [
             0.8888888888888888,
             "#fdca26"
            ],
            [
             1,
             "#f0f921"
            ]
           ],
           "sequentialminus": [
            [
             0,
             "#0d0887"
            ],
            [
             0.1111111111111111,
             "#46039f"
            ],
            [
             0.2222222222222222,
             "#7201a8"
            ],
            [
             0.3333333333333333,
             "#9c179e"
            ],
            [
             0.4444444444444444,
             "#bd3786"
            ],
            [
             0.5555555555555556,
             "#d8576b"
            ],
            [
             0.6666666666666666,
             "#ed7953"
            ],
            [
             0.7777777777777778,
             "#fb9f3a"
            ],
            [
             0.8888888888888888,
             "#fdca26"
            ],
            [
             1,
             "#f0f921"
            ]
           ]
          },
          "colorway": [
           "#636efa",
           "#EF553B",
           "#00cc96",
           "#ab63fa",
           "#FFA15A",
           "#19d3f3",
           "#FF6692",
           "#B6E880",
           "#FF97FF",
           "#FECB52"
          ],
          "font": {
           "color": "#2a3f5f"
          },
          "geo": {
           "bgcolor": "white",
           "lakecolor": "white",
           "landcolor": "#E5ECF6",
           "showlakes": true,
           "showland": true,
           "subunitcolor": "white"
          },
          "hoverlabel": {
           "align": "left"
          },
          "hovermode": "closest",
          "mapbox": {
           "style": "light"
          },
          "paper_bgcolor": "white",
          "plot_bgcolor": "#E5ECF6",
          "polar": {
           "angularaxis": {
            "gridcolor": "white",
            "linecolor": "white",
            "ticks": ""
           },
           "bgcolor": "#E5ECF6",
           "radialaxis": {
            "gridcolor": "white",
            "linecolor": "white",
            "ticks": ""
           }
          },
          "scene": {
           "xaxis": {
            "backgroundcolor": "#E5ECF6",
            "gridcolor": "white",
            "gridwidth": 2,
            "linecolor": "white",
            "showbackground": true,
            "ticks": "",
            "zerolinecolor": "white"
           },
           "yaxis": {
            "backgroundcolor": "#E5ECF6",
            "gridcolor": "white",
            "gridwidth": 2,
            "linecolor": "white",
            "showbackground": true,
            "ticks": "",
            "zerolinecolor": "white"
           },
           "zaxis": {
            "backgroundcolor": "#E5ECF6",
            "gridcolor": "white",
            "gridwidth": 2,
            "linecolor": "white",
            "showbackground": true,
            "ticks": "",
            "zerolinecolor": "white"
           }
          },
          "shapedefaults": {
           "line": {
            "color": "#2a3f5f"
           }
          },
          "ternary": {
           "aaxis": {
            "gridcolor": "white",
            "linecolor": "white",
            "ticks": ""
           },
           "baxis": {
            "gridcolor": "white",
            "linecolor": "white",
            "ticks": ""
           },
           "bgcolor": "#E5ECF6",
           "caxis": {
            "gridcolor": "white",
            "linecolor": "white",
            "ticks": ""
           }
          },
          "title": {
           "x": 0.05
          },
          "xaxis": {
           "automargin": true,
           "gridcolor": "white",
           "linecolor": "white",
           "ticks": "",
           "title": {
            "standoff": 15
           },
           "zerolinecolor": "white",
           "zerolinewidth": 2
          },
          "yaxis": {
           "automargin": true,
           "gridcolor": "white",
           "linecolor": "white",
           "ticks": "",
           "title": {
            "standoff": 15
           },
           "zerolinecolor": "white",
           "zerolinewidth": 2
          }
         }
        },
        "title": {
         "text": "4 years Schools tuition evolution"
        },
        "transition": {
         "duration": 2000
        },
        "updatemenus": [
         {
          "buttons": [
           {
            "args": [
             null,
             {
              "frame": {
               "duration": 500,
               "redraw": true
              },
              "fromcurrent": true,
              "mode": "immediate",
              "transition": {
               "duration": 500,
               "easing": "linear"
              }
             }
            ],
            "label": "&#9654;",
            "method": "animate"
           },
           {
            "args": [
             [
              null
             ],
             {
              "frame": {
               "duration": 0,
               "redraw": true
              },
              "fromcurrent": true,
              "mode": "immediate",
              "transition": {
               "duration": 0,
               "easing": "linear"
              }
             }
            ],
            "label": "&#9724;",
            "method": "animate"
           }
          ],
          "direction": "left",
          "pad": {
           "r": 10,
           "t": 70
          },
          "showactive": false,
          "type": "buttons",
          "x": 0.1,
          "xanchor": "right",
          "y": 0,
          "yanchor": "top"
         }
        ],
        "width": 800
       }
      }
     },
     "metadata": {},
     "output_type": "display_data"
    }
   ],
   "source": [
    "import plotly.express as px\n",
    "column_selected = \"Tuition\"\n",
    "\n",
    "map_figure = px.choropleth(\n",
    "    data_frame=df,\n",
    "    locations='State_Code',\n",
    "    locationmode='USA-states',\n",
    "    color=column_selected,\n",
    "    animation_frame='Year',\n",
    "    color_continuous_scale='YlOrRd',\n",
    "    range_color=(df[column_selected].min(), df[column_selected].max()),\n",
    "    title='4 years Schools tuition evolution',\n",
    "    labels={'Tuition ($)': column_selected},\n",
    "    hover_name = \"State\",\n",
    "    hover_data = [\"Tuition\"]\n",
    "\n",
    ")\n",
    "\n",
    "map_figure.update_geos(showframe=False, showcoastlines=False, projection_type='albers usa', showocean=True, oceancolor=\"LightBlue\")\n",
    "map_figure.update_layout(\n",
    "    width=800,\n",
    "    height=600,\n",
    "    transition_duration=2000\n",
    ")\n",
    "map_figure.write_html(\"../../graphs/html/three-map.html\")\n",
    "map_figure.show()"
   ]
  }
 ],
 "metadata": {
  "kernelspec": {
   "display_name": "base",
   "language": "python",
   "name": "python3"
  },
  "language_info": {
   "codemirror_mode": {
    "name": "ipython",
    "version": 3
   },
   "file_extension": ".py",
   "mimetype": "text/x-python",
   "name": "python",
   "nbconvert_exporter": "python",
   "pygments_lexer": "ipython3",
   "version": "3.10.9"
  }
 },
 "nbformat": 4,
 "nbformat_minor": 2
}
