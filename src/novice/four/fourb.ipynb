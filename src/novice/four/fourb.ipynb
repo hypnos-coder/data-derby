{
 "cells": [
  {
   "cell_type": "code",
   "execution_count": 65,
   "metadata": {},
   "outputs": [
    {
     "data": {
      "text/html": [
       "<div>\n",
       "<style scoped>\n",
       "    .dataframe tbody tr th:only-of-type {\n",
       "        vertical-align: middle;\n",
       "    }\n",
       "\n",
       "    .dataframe tbody tr th {\n",
       "        vertical-align: top;\n",
       "    }\n",
       "\n",
       "    .dataframe thead th {\n",
       "        text-align: right;\n",
       "    }\n",
       "</style>\n",
       "<table border=\"1\" class=\"dataframe\">\n",
       "  <thead>\n",
       "    <tr style=\"text-align: right;\">\n",
       "      <th></th>\n",
       "      <th>Year</th>\n",
       "      <th>University of Minnesota Twin-Cities</th>\n",
       "      <th>Minnesota State 4-year universities</th>\n",
       "      <th>Minnesota 2-year Colleges</th>\n",
       "      <th>Private 4-year colleges</th>\n",
       "    </tr>\n",
       "  </thead>\n",
       "  <tbody>\n",
       "    <tr>\n",
       "      <th>45</th>\n",
       "      <td>2015</td>\n",
       "      <td>13840.0</td>\n",
       "      <td>8139.0</td>\n",
       "      <td>5391.0</td>\n",
       "      <td>35726.0</td>\n",
       "    </tr>\n",
       "    <tr>\n",
       "      <th>46</th>\n",
       "      <td>2016</td>\n",
       "      <td>14224.0</td>\n",
       "      <td>8179.0</td>\n",
       "      <td>5358.0</td>\n",
       "      <td>37075.0</td>\n",
       "    </tr>\n",
       "    <tr>\n",
       "      <th>47</th>\n",
       "      <td>2017</td>\n",
       "      <td>14488.0</td>\n",
       "      <td>8484.0</td>\n",
       "      <td>5413.0</td>\n",
       "      <td>38087.0</td>\n",
       "    </tr>\n",
       "    <tr>\n",
       "      <th>48</th>\n",
       "      <td>2018</td>\n",
       "      <td>14760.0</td>\n",
       "      <td>8521.0</td>\n",
       "      <td>5419.0</td>\n",
       "      <td>39567.0</td>\n",
       "    </tr>\n",
       "    <tr>\n",
       "      <th>49</th>\n",
       "      <td>2019</td>\n",
       "      <td>15142.0</td>\n",
       "      <td>8807.0</td>\n",
       "      <td>5557.0</td>\n",
       "      <td>42533.0</td>\n",
       "    </tr>\n",
       "  </tbody>\n",
       "</table>\n",
       "</div>"
      ],
      "text/plain": [
       "    Year  University of Minnesota Twin-Cities  \\\n",
       "45  2015                              13840.0   \n",
       "46  2016                              14224.0   \n",
       "47  2017                              14488.0   \n",
       "48  2018                              14760.0   \n",
       "49  2019                              15142.0   \n",
       "\n",
       "    Minnesota State 4-year universities  Minnesota 2-year Colleges  \\\n",
       "45                               8139.0                     5391.0   \n",
       "46                               8179.0                     5358.0   \n",
       "47                               8484.0                     5413.0   \n",
       "48                               8521.0                     5419.0   \n",
       "49                               8807.0                     5557.0   \n",
       "\n",
       "    Private 4-year colleges  \n",
       "45                  35726.0  \n",
       "46                  37075.0  \n",
       "47                  38087.0  \n",
       "48                  39567.0  \n",
       "49                  42533.0  "
      ]
     },
     "execution_count": 65,
     "metadata": {},
     "output_type": "execute_result"
    }
   ],
   "source": [
    "import pandas as pd\n",
    "import seaborn as sns\n",
    "import matplotlib.pyplot as plt\n",
    "\n",
    "df = pd.read_csv(\"../../../data/tuition.csv\")\n",
    "import warnings\n",
    "warnings.filterwarnings(\"ignore\")\n",
    "\n",
    "\n",
    "df.rename({\"Academic Year\": \"Year\"}, axis=1, inplace=True)\n",
    "def replace_year(x):\n",
    "    x=x.strip()\n",
    "    current = x[:4]\n",
    "    return current\n",
    "\n",
    "\n",
    "df['Year'] = df['Year'].apply(replace_year)\n",
    "df['Year'] = pd.to_datetime(df['Year']).dt.year\n",
    "# df.dtypes\n",
    "df = df.sort_values(by=[\"Year\"]).reset_index(drop=True)\n",
    "df.tail()"
   ]
  },
  {
   "cell_type": "code",
   "execution_count": 66,
   "metadata": {},
   "outputs": [
    {
     "data": {
      "text/html": [
       "<div>\n",
       "<style scoped>\n",
       "    .dataframe tbody tr th:only-of-type {\n",
       "        vertical-align: middle;\n",
       "    }\n",
       "\n",
       "    .dataframe tbody tr th {\n",
       "        vertical-align: top;\n",
       "    }\n",
       "\n",
       "    .dataframe thead th {\n",
       "        text-align: right;\n",
       "    }\n",
       "</style>\n",
       "<table border=\"1\" class=\"dataframe\">\n",
       "  <thead>\n",
       "    <tr style=\"text-align: right;\">\n",
       "      <th></th>\n",
       "      <th>Year</th>\n",
       "      <th>Public Two-Year</th>\n",
       "      <th>Public Four-Year</th>\n",
       "      <th>Private Nonprofit Four-Year</th>\n",
       "    </tr>\n",
       "  </thead>\n",
       "  <tbody>\n",
       "    <tr>\n",
       "      <th>33</th>\n",
       "      <td>2019</td>\n",
       "      <td>4000.0</td>\n",
       "      <td>9750.0</td>\n",
       "      <td>31820.0</td>\n",
       "    </tr>\n",
       "    <tr>\n",
       "      <th>34</th>\n",
       "      <td>2020</td>\n",
       "      <td>4070.0</td>\n",
       "      <td>9860.0</td>\n",
       "      <td>32410.0</td>\n",
       "    </tr>\n",
       "    <tr>\n",
       "      <th>35</th>\n",
       "      <td>2021</td>\n",
       "      <td>4130.0</td>\n",
       "      <td>10020.0</td>\n",
       "      <td>33010.0</td>\n",
       "    </tr>\n",
       "    <tr>\n",
       "      <th>36</th>\n",
       "      <td>2022</td>\n",
       "      <td>4220.0</td>\n",
       "      <td>10200.0</td>\n",
       "      <td>34210.0</td>\n",
       "    </tr>\n",
       "    <tr>\n",
       "      <th>37</th>\n",
       "      <td>2023</td>\n",
       "      <td>4330.0</td>\n",
       "      <td>10410.0</td>\n",
       "      <td>35130.0</td>\n",
       "    </tr>\n",
       "  </tbody>\n",
       "</table>\n",
       "</div>"
      ],
      "text/plain": [
       "    Year  Public Two-Year  Public Four-Year  Private Nonprofit Four-Year\n",
       "33  2019           4000.0            9750.0                      31820.0\n",
       "34  2020           4070.0            9860.0                      32410.0\n",
       "35  2021           4130.0           10020.0                      33010.0\n",
       "36  2022           4220.0           10200.0                      34210.0\n",
       "37  2023           4330.0           10410.0                      35130.0"
      ]
     },
     "execution_count": 66,
     "metadata": {},
     "output_type": "execute_result"
    }
   ],
   "source": [
    "df2 = pd.read_csv(\"../../../data/National_education_cost/CP1.csv\")\n",
    "df2.rename({\"Unnamed: 0\": \"Year\"}, axis=1, inplace=True)\n",
    "def replace_year(x):\n",
    "    current = x[:2]\n",
    "    if current[0] in [\"8\",\"9\"]: return \"19\"+current\n",
    "    else: return \"20\"+current\n",
    "df2['Year'] = df2['Year'].apply(replace_year)\n",
    "df2['Year'] = pd.to_datetime(df2['Year']).dt.year\n",
    "df2.tail()\n",
    "#y = -207884.61 + 104.90 * x\n",
    "#-543595.17 + 273.92 * x\n",
    "#-1633963.62 + 824.53 * x"
   ]
  },
  {
   "cell_type": "code",
   "execution_count": 67,
   "metadata": {},
   "outputs": [],
   "source": [
    "# df2.set_index('Year', inplace=True)"
   ]
  },
  {
   "cell_type": "code",
   "execution_count": 68,
   "metadata": {},
   "outputs": [],
   "source": [
    "\n",
    "def your_thing(data: pd.DataFrame, df, target, target_):\n",
    "    train_data, test_data = data[0:int(len(data)*0.7)], data[int(len(data)*0.7):]\n",
    "    # plt.figure(figsize=(16,8))\n",
    "    # plt.grid(True)\n",
    "    # plt.xlabel('Dates')\n",
    "    # plt.ylabel('Public Two-Year Prices')\n",
    "    # plt.plot(data[target], 'green', label='Train data')\n",
    "    # plt.plot(test_data[target], 'blue', label='Test data')\n",
    "    # plt.legend()\n",
    "\n",
    "\n",
    "    from pandas import Series\n",
    "    from matplotlib import pyplot\n",
    "    from statsmodels.tsa.ar_model import AR\n",
    "    from sklearn.metrics import mean_squared_error\n",
    "    from pandas import Series\n",
    "    from matplotlib import pyplot\n",
    "    from statsmodels.tsa.ar_model import AutoReg\n",
    "    from sklearn.metrics import mean_squared_error\n",
    "    # target = target\n",
    "    train_ar = train_data[target]\n",
    "    test_ar = test_data[target]\n",
    "    train_ar = train_data[target]\n",
    "    test_ar = test_data[target]\n",
    "    # train autoregression\n",
    "    model = AutoReg(train_ar, lags=1)\n",
    "    model_fit = model.fit()\n",
    "    window = len( model_fit.ar_lags)\n",
    "    coef = model_fit.params\n",
    "    # walk forward over time steps in test\n",
    "    coef\n",
    "\n",
    "    # history = train_ar[len(train_ar)-window:]\n",
    "    history = df[target_][len(df)-window:]\n",
    "    # print(history)\n",
    "    history = [history.iloc[i] for i in range(len(history))]\n",
    "    history\n",
    "\n",
    "    predictions = list()\n",
    "    for t in range(5):\n",
    "        length = len(history)\n",
    "        lag = [history[i] for i in range(length-window,length)]\n",
    "        yhat = coef[0]\n",
    "        for d in range(window):\n",
    "            yhat += coef[d+1] * lag[window-d-1]\n",
    "        obs = test_ar.iloc[t]\n",
    "        predictions.append(yhat)\n",
    "        \n",
    "        history.append(obs)\n",
    "    print(predictions)  \n"
   ]
  },
  {
   "cell_type": "code",
   "execution_count": 69,
   "metadata": {},
   "outputs": [
    {
     "name": "stdout",
     "output_type": "stream",
     "text": [
      "[5795.301665273261, 3447.307382843695, 3561.2374097811685, 3685.524711894776, 3778.740188479981]\n"
     ]
    }
   ],
   "source": [
    "target = ['Public Two-Year', 'Public Four-Year', 'Private Nonprofit Four-Year']\n",
    "target_ = ['University of Minnesota Twin-Cities','Minnesota State 4-year universities','Minnesota 2-year Colleges','Private 4-year colleges']\n",
    "your_thing(df2, df,target[0], target_[2])"
   ]
  },
  {
   "cell_type": "code",
   "execution_count": 70,
   "metadata": {},
   "outputs": [
    {
     "name": "stdout",
     "output_type": "stream",
     "text": [
      "[16167.296170574287, 8583.72331446894, 8786.321576935197, 9063.561304520601, 9308.811832769226]\n"
     ]
    }
   ],
   "source": [
    "your_thing(df2, df,target[1], target_[0])"
   ]
  },
  {
   "cell_type": "code",
   "execution_count": 73,
   "metadata": {},
   "outputs": [
    {
     "name": "stdout",
     "output_type": "stream",
     "text": [
      "[6061.712925904518, 25864.18565959616, 26719.65083260215, 27616.34324286144, 28554.26289037403]\n"
     ]
    }
   ],
   "source": [
    "your_thing(df2, df,target[2], target_[2])"
   ]
  }
 ],
 "metadata": {
  "kernelspec": {
   "display_name": "base",
   "language": "python",
   "name": "python3"
  },
  "language_info": {
   "codemirror_mode": {
    "name": "ipython",
    "version": 3
   },
   "file_extension": ".py",
   "mimetype": "text/x-python",
   "name": "python",
   "nbconvert_exporter": "python",
   "pygments_lexer": "ipython3",
   "version": "3.12.2"
  }
 },
 "nbformat": 4,
 "nbformat_minor": 2
}
