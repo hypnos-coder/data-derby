{
 "cells": [
  {
   "cell_type": "code",
   "execution_count": 337,
   "metadata": {},
   "outputs": [
    {
     "data": {
      "text/html": [
       "<div>\n",
       "<style scoped>\n",
       "    .dataframe tbody tr th:only-of-type {\n",
       "        vertical-align: middle;\n",
       "    }\n",
       "\n",
       "    .dataframe tbody tr th {\n",
       "        vertical-align: top;\n",
       "    }\n",
       "\n",
       "    .dataframe thead th {\n",
       "        text-align: right;\n",
       "    }\n",
       "</style>\n",
       "<table border=\"1\" class=\"dataframe\">\n",
       "  <thead>\n",
       "    <tr style=\"text-align: right;\">\n",
       "      <th></th>\n",
       "      <th>State</th>\n",
       "      <th>early_career_pay</th>\n",
       "      <th>mid_career_pay</th>\n",
       "      <th>Tuition-four years</th>\n",
       "      <th>Tuition-two years</th>\n",
       "    </tr>\n",
       "  </thead>\n",
       "  <tbody>\n",
       "    <tr>\n",
       "      <th>0</th>\n",
       "      <td>Alabama</td>\n",
       "      <td>44992.000000</td>\n",
       "      <td>81592.000000</td>\n",
       "      <td>8636.55</td>\n",
       "      <td>3967.7690</td>\n",
       "    </tr>\n",
       "    <tr>\n",
       "      <th>1</th>\n",
       "      <td>Arizona</td>\n",
       "      <td>50228.571429</td>\n",
       "      <td>90642.857143</td>\n",
       "      <td>9129.60</td>\n",
       "      <td>2212.8455</td>\n",
       "    </tr>\n",
       "    <tr>\n",
       "      <th>2</th>\n",
       "      <td>Arkansas</td>\n",
       "      <td>44110.526316</td>\n",
       "      <td>79242.105263</td>\n",
       "      <td>7356.45</td>\n",
       "      <td>3057.0030</td>\n",
       "    </tr>\n",
       "    <tr>\n",
       "      <th>3</th>\n",
       "      <td>California</td>\n",
       "      <td>67232.000000</td>\n",
       "      <td>123976.000000</td>\n",
       "      <td>8140.95</td>\n",
       "      <td>1174.2860</td>\n",
       "    </tr>\n",
       "    <tr>\n",
       "      <th>4</th>\n",
       "      <td>Colorado</td>\n",
       "      <td>51857.894737</td>\n",
       "      <td>93257.894737</td>\n",
       "      <td>8687.45</td>\n",
       "      <td>3696.8895</td>\n",
       "    </tr>\n",
       "  </tbody>\n",
       "</table>\n",
       "</div>"
      ],
      "text/plain": [
       "        State  early_career_pay  mid_career_pay  Tuition-four years  \\\n",
       "0     Alabama      44992.000000    81592.000000             8636.55   \n",
       "1     Arizona      50228.571429    90642.857143             9129.60   \n",
       "2    Arkansas      44110.526316    79242.105263             7356.45   \n",
       "3  California      67232.000000   123976.000000             8140.95   \n",
       "4    Colorado      51857.894737    93257.894737             8687.45   \n",
       "\n",
       "   Tuition-two years  \n",
       "0          3967.7690  \n",
       "1          2212.8455  \n",
       "2          3057.0030  \n",
       "3          1174.2860  \n",
       "4          3696.8895  "
      ]
     },
     "execution_count": 337,
     "metadata": {},
     "output_type": "execute_result"
    }
   ],
   "source": [
    "import pandas as pd\n",
    "import seaborn as sns\n",
    "import matplotlib.pyplot as plt\n",
    "\n",
    "df_salary = pd.read_csv(\"../../data//salary_potential.csv\")\n",
    "df_two_years = pd.read_csv(\"../../data/National_education_cost/CP3-pub-2y-current-dollars.csv\")\n",
    "df_four_years = pd.read_csv(\"../../data/National_education_cost/CP3-pub-4y-current-dollars.csv\")\n",
    "\n",
    "import warnings\n",
    "warnings.filterwarnings(\"ignore\")\n",
    "\n",
    "df.head()"
   ]
  },
  {
   "cell_type": "code",
   "execution_count": 338,
   "metadata": {},
   "outputs": [],
   "source": [
    "def get_data_ready(data: pd.DataFrame):\n",
    "    data = data.rename({\n",
    "        \"In Current Dollars\":\"State\"\n",
    "        }, \n",
    "        axis=1, \n",
    "        # inplace=True\n",
    "        ).dropna()\n",
    "\n",
    "    data = pd.melt(data, id_vars=[\"State\", \"1-Year % Change\", \"5-Year % Change\"], var_name=\"Year\", value_name=\"Tuition\")\n",
    "    data = data.sort_values(by=[\"State\", \"Year\"]).reset_index(drop=True)\n",
    "    relevant = pd.DataFrame(data.groupby([\"State\"])[\"Tuition\"].mean(\"\"))\n",
    "    return relevant\n",
    "\n",
    "\n"
   ]
  },
  {
   "cell_type": "code",
   "execution_count": 339,
   "metadata": {},
   "outputs": [],
   "source": [
    "relevant_four_year = get_data_ready(df_four_years)\n",
    "relevant_two_year = get_data_ready(df_two_years)\n",
    "\n"
   ]
  },
  {
   "cell_type": "code",
   "execution_count": 340,
   "metadata": {},
   "outputs": [],
   "source": [
    "relevant_salary = df_salary.iloc[:, 1:].groupby([\"state_name\"]).mean().reset_index()\n",
    "relevant_salary.rename({\n",
    "    \"state_name\":\"State\"\n",
    "}, axis=1, inplace=True)\n",
    "relevant_salary['State'] = relevant_salary['State'].apply(lambda x: x.replace(\"-\", \" \"))\n",
    "# relevant_salary"
   ]
  },
  {
   "cell_type": "code",
   "execution_count": 341,
   "metadata": {},
   "outputs": [
    {
     "name": "stdout",
     "output_type": "stream",
     "text": [
      "Alaska\n"
     ]
    }
   ],
   "source": [
    "for i in relevant_salary.State:\n",
    "    if i not in relevant_two_year.index:\n",
    "        print(i)"
   ]
  },
  {
   "cell_type": "code",
   "execution_count": 342,
   "metadata": {},
   "outputs": [],
   "source": [
    "# # merge data\n",
    "# df_list = [relevant_salary, relevant_four_year, relevant_two_year]\n",
    "# merged_df = df_list[0]\n",
    "# for df in df_list:\n",
    "#     merged_df = pd.merge(right=merged_df, left=df, on=\"State\")\n",
    "# merged_df\n",
    "\n",
    "merged_df = pd.merge(right=relevant_two_year, left=relevant_four_year, on=\"State\", suffixes=[\"-four years\", \"-two years\"]).reset_index()\n",
    "df = pd.merge(right=merged_df, left=relevant_salary, on=\"State\")\n"
   ]
  },
  {
   "cell_type": "code",
   "execution_count": null,
   "metadata": {},
   "outputs": [],
   "source": [
    "# x and y given as array_like objects\n",
    "import plotly.express as px\n",
    "fig = px.scatter()\n",
    "fig.show()"
   ]
  }
 ],
 "metadata": {
  "kernelspec": {
   "display_name": "base",
   "language": "python",
   "name": "python3"
  },
  "language_info": {
   "codemirror_mode": {
    "name": "ipython",
    "version": 3
   },
   "file_extension": ".py",
   "mimetype": "text/x-python",
   "name": "python",
   "nbconvert_exporter": "python",
   "pygments_lexer": "ipython3",
   "version": "3.10.9"
  }
 },
 "nbformat": 4,
 "nbformat_minor": 2
}
